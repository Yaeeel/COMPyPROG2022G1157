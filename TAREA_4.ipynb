{
  "nbformat": 4,
  "nbformat_minor": 0,
  "metadata": {
    "colab": {
      "name": "TAREA 4.ipynb",
      "provenance": [],
      "collapsed_sections": [],
      "authorship_tag": "ABX9TyOMGX6Ha1cKrCZPlcUEXxRg",
      "include_colab_link": true
    },
    "kernelspec": {
      "name": "python3",
      "display_name": "Python 3"
    },
    "language_info": {
      "name": "python"
    }
  },
  "cells": [
    {
      "cell_type": "markdown",
      "metadata": {
        "id": "view-in-github",
        "colab_type": "text"
      },
      "source": [
        "<a href=\"https://colab.research.google.com/github/YaelDuarte/COMPyPROG2022G1157/blob/main/TAREA_4.ipynb\" target=\"_parent\"><img src=\"https://colab.research.google.com/assets/colab-badge.svg\" alt=\"Open In Colab\"/></a>"
      ]
    },
    {
      "cell_type": "code",
      "metadata": {
        "colab": {
          "base_uri": "https://localhost:8080/"
        },
        "id": "x8BRpwB2tOBL",
        "outputId": "924a2767-b655-4ec5-ea11-05204837a6f8"
      },
      "source": [
        "print(\"\"\" \\n\\tRRRRR\n",
        "        R   R\n",
        "        RRRRR\n",
        "        R  R\n",
        "        R    R\"\"\" + \"\"\" \n",
        "        \\n\\tOOOOO\n",
        "        O   O\n",
        "        O   O\n",
        "        OOOOO \"\"\" + \"\"\" \n",
        "        \\n\\tDDDD\n",
        "        D    D\n",
        "        D   D\n",
        "        DDDD \"\"\" + \"\"\" \n",
        "        \\n\\tRRRRR\n",
        "        R   R\n",
        "        RRRRR\n",
        "        R  R\n",
        "        R    R\"\"\" + \"\"\" \n",
        "        \\n\\tIIIII\n",
        "          I\n",
        "          I\n",
        "          I\n",
        "          I\n",
        "        IIIII \"\"\" + \"\"\" \n",
        "        \\n\\tGGGGG\n",
        "        G\n",
        "        G  GG\n",
        "        G   G\n",
        "        GGGGG \"\"\" + \"\"\" \n",
        "        \\n\\tOOOOO\n",
        "        O   O\n",
        "        O   O\n",
        "        O   O\n",
        "        OOOOO \"\"\")"
      ],
      "execution_count": 57,
      "outputs": [
        {
          "output_type": "stream",
          "name": "stdout",
          "text": [
            " \n",
            "\tRRRRR\n",
            "        R   R\n",
            "        RRRRR\n",
            "        R  R\n",
            "        R    R \n",
            "        \n",
            "\tOOOOO\n",
            "        O   O\n",
            "        O   O\n",
            "        OOOOO  \n",
            "        \n",
            "\tDDDD\n",
            "        D    D\n",
            "        D   D\n",
            "        DDDD  \n",
            "        \n",
            "\tRRRRR\n",
            "        R   R\n",
            "        RRRRR\n",
            "        R  R\n",
            "        R    R \n",
            "        \n",
            "\tIIIII\n",
            "          I\n",
            "          I\n",
            "          I\n",
            "          I\n",
            "        IIIII  \n",
            "        \n",
            "\tGGGGG\n",
            "        G\n",
            "        G  GG\n",
            "        G   G\n",
            "        GGGGG  \n",
            "        \n",
            "\tOOOOO\n",
            "        O   O\n",
            "        O   O\n",
            "        O   O\n",
            "        OOOOO \n"
          ]
        }
      ]
    }
  ]
}