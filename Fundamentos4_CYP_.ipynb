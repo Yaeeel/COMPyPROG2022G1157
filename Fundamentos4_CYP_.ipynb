{
  "nbformat": 4,
  "nbformat_minor": 0,
  "metadata": {
    "colab": {
      "name": "Fundamentos4_CYP_.ipynb",
      "provenance": [],
      "authorship_tag": "ABX9TyMXuU32Ayn1KZZ4cNR+Fggg",
      "include_colab_link": true
    },
    "kernelspec": {
      "name": "python3",
      "display_name": "Python 3"
    },
    "language_info": {
      "name": "python"
    }
  },
  "cells": [
    {
      "cell_type": "markdown",
      "metadata": {
        "id": "view-in-github",
        "colab_type": "text"
      },
      "source": [
        "<a href=\"https://colab.research.google.com/github/YaelDuarte/COMPyPROG2022G1157/blob/main/Fundamentos4_CYP_.ipynb\" target=\"_parent\"><img src=\"https://colab.research.google.com/assets/colab-badge.svg\" alt=\"Open In Colab\"/></a>"
      ]
    },
    {
      "cell_type": "markdown",
      "metadata": {
        "id": "xi89vHH0UO_F"
      },
      "source": [
        "# 2 DICIEMBRE 2021"
      ]
    },
    {
      "cell_type": "markdown",
      "metadata": {
        "id": "lEQq1sPFVLaN"
      },
      "source": [
        "una funciÓn es una unidad de código reutilizable, además de ser un mecanismo para organizar código.\n",
        "\n",
        "La gran ventaja de emplear funciones es simplificar la programación\n",
        "\n",
        "### Estructura\n",
        "Una función puede tomar cualquier canitdad de parametros de entrada ( de cualquier tipo) y retornar unicamente un sólo valor.\n",
        "Una parámetro de entrada es un valor que recibe la función para realizar sus operaciones.\n",
        "\n",
        "Con una función se pueden hacer 2 cosas:    \n",
        "1. Definirla \n",
        "2. Invocarla (ejecutarla)\n",
        "\n",
        "La gran ventaja de tener una función declarada es que la podemos reutilzar cuando se desee"
      ]
    },
    {
      "cell_type": "markdown",
      "metadata": {
        "id": "BJ6mYXQrUG8x"
      },
      "source": [
        "# Modularidad (Funciones)\n"
      ]
    },
    {
      "cell_type": "code",
      "metadata": {
        "id": "VjJNkXIgUB42"
      },
      "source": [
        "def sumar( op1 , op2 ):\n",
        "    res = op1 + op2\n",
        "    return res "
      ],
      "execution_count": 1,
      "outputs": []
    },
    {
      "cell_type": "code",
      "metadata": {
        "colab": {
          "base_uri": "https://localhost:8080/"
        },
        "id": "dM8vR18FYChN",
        "outputId": "f974672b-c726-468c-8252-7c18413f110d"
      },
      "source": [
        "res = sumar( 2 , 5 )\n",
        "print(res)\n",
        "res = sumar( 33 , 22)\n",
        "print(res)"
      ],
      "execution_count": 3,
      "outputs": [
        {
          "output_type": "stream",
          "name": "stdout",
          "text": [
            "7\n",
            "55\n"
          ]
        }
      ]
    },
    {
      "cell_type": "code",
      "metadata": {
        "colab": {
          "base_uri": "https://localhost:8080/"
        },
        "id": "TIs4Ww8wZ1yo",
        "outputId": "023aa389-2d76-43fd-fe5b-293fc6a8f1cc"
      },
      "source": [
        "print(\"hola\",\"Jesus\",sep=\"-\")"
      ],
      "execution_count": 4,
      "outputs": [
        {
          "output_type": "stream",
          "name": "stdout",
          "text": [
            "hola-Jesus\n"
          ]
        }
      ]
    },
    {
      "cell_type": "code",
      "metadata": {
        "colab": {
          "base_uri": "https://localhost:8080/"
        },
        "id": "b78i7lZ4aQWy",
        "outputId": "cf2a1e13-6a09-4099-8355-1b4cd19d2088"
      },
      "source": [
        "def imprime_cuadro():\n",
        "    print(\"****\")\n",
        "    print(\"****\")\n",
        "    print(\"****\")\n",
        "    print(\"****\")\n",
        "    #return None\n",
        "imprime_cuadro()"
      ],
      "execution_count": 5,
      "outputs": [
        {
          "output_type": "stream",
          "name": "stdout",
          "text": [
            "****\n",
            "****\n",
            "****\n",
            "****\n"
          ]
        }
      ]
    },
    {
      "cell_type": "markdown",
      "metadata": {
        "id": "b09stxUMa7IM"
      },
      "source": [
        "# Valor de retorno de una función\n",
        "\n",
        "regla de oro.- Una función siempre retorna UN SOLO VALOR. Inclusive si ese valor es el vacio. "
      ]
    },
    {
      "cell_type": "code",
      "metadata": {
        "colab": {
          "base_uri": "https://localhost:8080/"
        },
        "id": "vVYJMNNIbMAU",
        "outputId": "18b14dab-ae88-4c6c-8f5e-11148151251f"
      },
      "source": [
        "# invocar sumar\n",
        "res = sumar(7 , 8)\n",
        "print(res)\n",
        "# invocar la funcion pintar cudadro\n",
        "res = imprime_cuadro()\n",
        "print(res)\n"
      ],
      "execution_count": 6,
      "outputs": [
        {
          "output_type": "stream",
          "name": "stdout",
          "text": [
            "15\n",
            "****\n",
            "****\n",
            "****\n",
            "****\n",
            "None\n"
          ]
        }
      ]
    },
    {
      "cell_type": "markdown",
      "metadata": {
        "id": "LmikXZtRdQpM"
      },
      "source": [
        "# La palabra reservada None de python\n",
        "Esta palabra reservada significa vacío, equivalente a la palabra reservada void del lengaje C. C++ y Java.\n",
        "\n",
        "Se usa para indicar ya sea un return vacío o que se recive como parametro vacío."
      ]
    },
    {
      "cell_type": "code",
      "metadata": {
        "id": "xeOnpZlrd38m"
      },
      "source": [
        "def multiplicar( valor, veces ):\n",
        "    c = valor * veces\n",
        "    return c"
      ],
      "execution_count": 7,
      "outputs": []
    },
    {
      "cell_type": "code",
      "metadata": {
        "colab": {
          "base_uri": "https://localhost:8080/"
        },
        "id": "FmI3sctQeHX5",
        "outputId": "9e69caed-139b-4151-d6ac-1f0bf696dc70"
      },
      "source": [
        "res = multiplicar(None,5)\n",
        "print(res)"
      ],
      "execution_count": 8,
      "outputs": [
        {
          "output_type": "stream",
          "name": "stdout",
          "text": [
            "25\n"
          ]
        }
      ]
    },
    {
      "cell_type": "code",
      "metadata": {
        "id": "J9xAUQz2etcq"
      },
      "source": [
        "def multiplicar( valor, veces ):\n",
        "    if valor == None:\n",
        "        c=-1\n",
        "    else:\n",
        "        c = valor * veces\n",
        "    return c"
      ],
      "execution_count": 12,
      "outputs": []
    },
    {
      "cell_type": "code",
      "metadata": {
        "colab": {
          "base_uri": "https://localhost:8080/"
        },
        "id": "pFRr4VY1fLb7",
        "outputId": "434f17fa-c1d2-4b8a-9c39-b739ac777dfc"
      },
      "source": [
        "res = multiplicar( None, 5 )\n",
        "print(res)"
      ],
      "execution_count": 13,
      "outputs": [
        {
          "output_type": "stream",
          "name": "stdout",
          "text": [
            "-1\n"
          ]
        }
      ]
    },
    {
      "cell_type": "markdown",
      "metadata": {
        "id": "9guRFkyjfZWX"
      },
      "source": [
        "# Parametros y argumentos\n",
        "Son conceptos relacionados y su diferencia esta centrada en el momento que se emplea en una función.\n",
        "\n",
        "Es decir en la función sumar de arriba, cuando se declara se le llama parámetro y cuando se le invoca se llama argumento"
      ]
    },
    {
      "cell_type": "markdown",
      "metadata": {
        "id": "zpxMPq8qgV0W"
      },
      "source": [
        "# argumentos posicionales\n",
        "En python es posible determinar a que parametros estan dirigidos los argumentos, según su posición"
      ]
    },
    {
      "cell_type": "code",
      "metadata": {
        "id": "wsBUqR1GgoMv"
      },
      "source": [
        "def dividir( op1 , op2):\n",
        "    c = op1 / op2\n",
        "    return c"
      ],
      "execution_count": 14,
      "outputs": []
    },
    {
      "cell_type": "code",
      "metadata": {
        "colab": {
          "base_uri": "https://localhost:8080/"
        },
        "id": "qaaGcHsJg1_w",
        "outputId": "e6bf5bfd-680b-4e56-d19f-c329806ca17a"
      },
      "source": [
        "num1 = 25\n",
        "num2 = 5\n",
        "res = dividir( num1 , num2 )\n",
        "print( res )\n",
        "res = dividir( num2 , num1 )\n",
        "print( res )"
      ],
      "execution_count": 16,
      "outputs": [
        {
          "output_type": "stream",
          "name": "stdout",
          "text": [
            "5.0\n",
            "0.2\n"
          ]
        }
      ]
    },
    {
      "cell_type": "markdown",
      "metadata": {
        "id": "_gAWxzlPhXxO"
      },
      "source": [
        "# Argumentos con palabras clave (keywords)\n",
        "\n",
        "Es la posibibilidad de indicarle a la función en tiempo de ejecución a que parametro va dirigido un argumento de entrada.\n",
        "\n",
        "Solo disponible en python"
      ]
    },
    {
      "cell_type": "code",
      "metadata": {
        "colab": {
          "base_uri": "https://localhost:8080/"
        },
        "id": "Cf3P5eeeh9eZ",
        "outputId": "632a1c76-27f6-4edc-8d15-0b42a7a551b9"
      },
      "source": [
        "res = dividir( op2=num2 , op1=num1 )\n",
        "print( res )"
      ],
      "execution_count": 17,
      "outputs": [
        {
          "output_type": "stream",
          "name": "stdout",
          "text": [
            "5.0\n"
          ]
        }
      ]
    }
  ]
}