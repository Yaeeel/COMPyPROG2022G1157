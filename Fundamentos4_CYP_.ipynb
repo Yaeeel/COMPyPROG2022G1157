{
  "nbformat": 4,
  "nbformat_minor": 0,
  "metadata": {
    "colab": {
      "name": "Fundamentos4_CYP_.ipynb",
      "provenance": [],
      "authorship_tag": "ABX9TyNi9/Ymy5ay5ootOR4ZOwgX",
      "include_colab_link": true
    },
    "kernelspec": {
      "name": "python3",
      "display_name": "Python 3"
    },
    "language_info": {
      "name": "python"
    }
  },
  "cells": [
    {
      "cell_type": "markdown",
      "metadata": {
        "id": "view-in-github",
        "colab_type": "text"
      },
      "source": [
        "<a href=\"https://colab.research.google.com/github/YaelDuarte/COMPyPROG2022G1157/blob/main/Fundamentos4_CYP_.ipynb\" target=\"_parent\"><img src=\"https://colab.research.google.com/assets/colab-badge.svg\" alt=\"Open In Colab\"/></a>"
      ]
    },
    {
      "cell_type": "markdown",
      "metadata": {
        "id": "xi89vHH0UO_F"
      },
      "source": [
        "# 2 DICIEMBRE 2021"
      ]
    },
    {
      "cell_type": "markdown",
      "metadata": {
        "id": "lEQq1sPFVLaN"
      },
      "source": [
        "una funciÓn es una unidad de código reutilizable, además de ser un mecanismo para organizar código.\n",
        "\n",
        "La gran ventaja de emplear funciones es simplificar la programación\n",
        "\n",
        "### Estructura\n",
        "Una función puede tomar cualquier canitdad de parametros de entrada ( de cualquier tipo) y retornar unicamente un sólo valor.\n",
        "Una parámetro de entrada es un valor que recibe la función para realizar sus operaciones.\n",
        "\n",
        "Con una función se pueden hacer 2 cosas:    \n",
        "1. Definirla \n",
        "2. Invocarla (ejecutarla)\n",
        "\n",
        "La gran ventaja de tener una función declarada es que la podemos reutilzar cuando se desee"
      ]
    },
    {
      "cell_type": "markdown",
      "metadata": {
        "id": "BJ6mYXQrUG8x"
      },
      "source": [
        "# Modularidad (Funciones)\n"
      ]
    },
    {
      "cell_type": "code",
      "metadata": {
        "id": "VjJNkXIgUB42"
      },
      "source": [
        "def sumar( op1 , op2 ):\n",
        "    res = op1 + op2\n",
        "    return res "
      ],
      "execution_count": null,
      "outputs": []
    },
    {
      "cell_type": "code",
      "metadata": {
        "colab": {
          "base_uri": "https://localhost:8080/"
        },
        "id": "dM8vR18FYChN",
        "outputId": "f974672b-c726-468c-8252-7c18413f110d"
      },
      "source": [
        "res = sumar( 2 , 5 )\n",
        "print(res)\n",
        "res = sumar( 33 , 22)\n",
        "print(res)"
      ],
      "execution_count": null,
      "outputs": [
        {
          "output_type": "stream",
          "name": "stdout",
          "text": [
            "7\n",
            "55\n"
          ]
        }
      ]
    },
    {
      "cell_type": "code",
      "metadata": {
        "colab": {
          "base_uri": "https://localhost:8080/"
        },
        "id": "TIs4Ww8wZ1yo",
        "outputId": "023aa389-2d76-43fd-fe5b-293fc6a8f1cc"
      },
      "source": [
        "print(\"hola\",\"Jesus\",sep=\"-\")"
      ],
      "execution_count": null,
      "outputs": [
        {
          "output_type": "stream",
          "name": "stdout",
          "text": [
            "hola-Jesus\n"
          ]
        }
      ]
    },
    {
      "cell_type": "code",
      "metadata": {
        "colab": {
          "base_uri": "https://localhost:8080/"
        },
        "id": "b78i7lZ4aQWy",
        "outputId": "cf2a1e13-6a09-4099-8355-1b4cd19d2088"
      },
      "source": [
        "def imprime_cuadro():\n",
        "    print(\"****\")\n",
        "    print(\"****\")\n",
        "    print(\"****\")\n",
        "    print(\"****\")\n",
        "    #return None\n",
        "imprime_cuadro()"
      ],
      "execution_count": null,
      "outputs": [
        {
          "output_type": "stream",
          "name": "stdout",
          "text": [
            "****\n",
            "****\n",
            "****\n",
            "****\n"
          ]
        }
      ]
    },
    {
      "cell_type": "markdown",
      "metadata": {
        "id": "b09stxUMa7IM"
      },
      "source": [
        "# Valor de retorno de una función\n",
        "\n",
        "regla de oro.- Una función siempre retorna UN SOLO VALOR. Inclusive si ese valor es el vacio. "
      ]
    },
    {
      "cell_type": "code",
      "metadata": {
        "colab": {
          "base_uri": "https://localhost:8080/"
        },
        "id": "vVYJMNNIbMAU",
        "outputId": "18b14dab-ae88-4c6c-8f5e-11148151251f"
      },
      "source": [
        "# invocar sumar\n",
        "res = sumar(7 , 8)\n",
        "print(res)\n",
        "# invocar la funcion pintar cudadro\n",
        "res = imprime_cuadro()\n",
        "print(res)\n"
      ],
      "execution_count": null,
      "outputs": [
        {
          "output_type": "stream",
          "name": "stdout",
          "text": [
            "15\n",
            "****\n",
            "****\n",
            "****\n",
            "****\n",
            "None\n"
          ]
        }
      ]
    },
    {
      "cell_type": "markdown",
      "metadata": {
        "id": "LmikXZtRdQpM"
      },
      "source": [
        "# La palabra reservada None de python\n",
        "Esta palabra reservada significa vacío, equivalente a la palabra reservada void del lengaje C. C++ y Java.\n",
        "\n",
        "Se usa para indicar ya sea un return vacío o que se recive como parametro vacío."
      ]
    },
    {
      "cell_type": "code",
      "metadata": {
        "id": "xeOnpZlrd38m"
      },
      "source": [
        "def multiplicar( valor, veces ):\n",
        "    c = valor * veces\n",
        "    return c"
      ],
      "execution_count": null,
      "outputs": []
    },
    {
      "cell_type": "code",
      "metadata": {
        "colab": {
          "base_uri": "https://localhost:8080/"
        },
        "id": "FmI3sctQeHX5",
        "outputId": "9e69caed-139b-4151-d6ac-1f0bf696dc70"
      },
      "source": [
        "res = multiplicar(None,5)\n",
        "print(res)"
      ],
      "execution_count": null,
      "outputs": [
        {
          "output_type": "stream",
          "name": "stdout",
          "text": [
            "25\n"
          ]
        }
      ]
    },
    {
      "cell_type": "code",
      "metadata": {
        "id": "J9xAUQz2etcq"
      },
      "source": [
        "def multiplicar( valor, veces ):\n",
        "    if valor == None:\n",
        "        c=-1\n",
        "    else:\n",
        "        c = valor * veces\n",
        "    return c"
      ],
      "execution_count": null,
      "outputs": []
    },
    {
      "cell_type": "code",
      "metadata": {
        "colab": {
          "base_uri": "https://localhost:8080/"
        },
        "id": "pFRr4VY1fLb7",
        "outputId": "434f17fa-c1d2-4b8a-9c39-b739ac777dfc"
      },
      "source": [
        "res = multiplicar( None, 5 )\n",
        "print(res)"
      ],
      "execution_count": null,
      "outputs": [
        {
          "output_type": "stream",
          "name": "stdout",
          "text": [
            "-1\n"
          ]
        }
      ]
    },
    {
      "cell_type": "markdown",
      "metadata": {
        "id": "9guRFkyjfZWX"
      },
      "source": [
        "# Parametros y argumentos\n",
        "Son conceptos relacionados y su diferencia esta centrada en el momento que se emplea en una función.\n",
        "\n",
        "Es decir en la función sumar de arriba, cuando se declara se le llama parámetro y cuando se le invoca se llama argumento"
      ]
    },
    {
      "cell_type": "markdown",
      "metadata": {
        "id": "zpxMPq8qgV0W"
      },
      "source": [
        "# argumentos posicionales\n",
        "En python es posible determinar a que parametros estan dirigidos los argumentos, según su posición"
      ]
    },
    {
      "cell_type": "code",
      "metadata": {
        "id": "wsBUqR1GgoMv"
      },
      "source": [
        "def dividir( op1 , op2):\n",
        "    c = op1 / op2\n",
        "    return c"
      ],
      "execution_count": null,
      "outputs": []
    },
    {
      "cell_type": "code",
      "metadata": {
        "colab": {
          "base_uri": "https://localhost:8080/"
        },
        "id": "qaaGcHsJg1_w",
        "outputId": "e6bf5bfd-680b-4e56-d19f-c329806ca17a"
      },
      "source": [
        "num1 = 25\n",
        "num2 = 5\n",
        "res = dividir( num1 , num2 )\n",
        "print( res )\n",
        "res = dividir( num2 , num1 )\n",
        "print( res )"
      ],
      "execution_count": null,
      "outputs": [
        {
          "output_type": "stream",
          "name": "stdout",
          "text": [
            "5.0\n",
            "0.2\n"
          ]
        }
      ]
    },
    {
      "cell_type": "markdown",
      "metadata": {
        "id": "_gAWxzlPhXxO"
      },
      "source": [
        "# Argumentos con palabras clave (keywords)\n",
        "\n",
        "Es la posibibilidad de indicarle a la función en tiempo de ejecución a que parametro va dirigido un argumento de entrada.\n",
        "\n",
        "Solo disponible en python"
      ]
    },
    {
      "cell_type": "code",
      "metadata": {
        "colab": {
          "base_uri": "https://localhost:8080/"
        },
        "id": "Cf3P5eeeh9eZ",
        "outputId": "632a1c76-27f6-4edc-8d15-0b42a7a551b9"
      },
      "source": [
        "res = dividir( op2=num2 , op1=num1 )\n",
        "print( res )"
      ],
      "execution_count": null,
      "outputs": [
        {
          "output_type": "stream",
          "name": "stdout",
          "text": [
            "5.0\n"
          ]
        }
      ]
    },
    {
      "cell_type": "markdown",
      "source": [
        "# Argumento por defecto\n",
        "\n",
        "Es la capacidad de las funciones de establecer un valor de defecto (Default)\n",
        "\n",
        "Si no se envia un argumento a dicho parámetro, entonces se asigna el que el porgramador asigno como default"
      ],
      "metadata": {
        "id": "JwMPo4_N-PFO"
      }
    },
    {
      "cell_type": "code",
      "source": [
        "def dividir( op1 , op2=2 ):\n",
        "    c = op1 / op2\n",
        "    return c\n",
        "\n",
        "print (dividir( 25 ) )"
      ],
      "metadata": {
        "colab": {
          "base_uri": "https://localhost:8080/"
        },
        "id": "xDXnWDMQ-i4U",
        "outputId": "0906eb56-2d9b-4de3-aa0b-2b4526d26035"
      },
      "execution_count": 2,
      "outputs": [
        {
          "output_type": "stream",
          "name": "stdout",
          "text": [
            "12.5\n"
          ]
        }
      ]
    },
    {
      "cell_type": "markdown",
      "source": [
        "Este concepto se puede ejemplificar con la función ***print*** "
      ],
      "metadata": {
        "id": "z2BpAbOJ_InG"
      }
    },
    {
      "cell_type": "code",
      "source": [
        "nombre = \"José\"\n",
        "edad = 18\n",
        "print(nombre,edad, sep= '**********')\n",
        "print(\"hola\" end=\" \")\n",
        "print(\"-------------\")"
      ],
      "metadata": {
        "colab": {
          "base_uri": "https://localhost:8080/"
        },
        "id": "ABf-FLvT_0LE",
        "outputId": "48716de8-7142-4e9a-c94c-79373110944e"
      },
      "execution_count": 6,
      "outputs": [
        {
          "output_type": "stream",
          "name": "stdout",
          "text": [
            "José**********18\n",
            "hola\n",
            "-------------\n"
          ]
        }
      ]
    },
    {
      "cell_type": "markdown",
      "source": [
        "# Ejercicio de Argumentos posicionales"
      ],
      "metadata": {
        "id": "MeLgDvm2Ajhb"
      }
    },
    {
      "cell_type": "code",
      "source": [
        "def comanda(comensal=1,primer =\"Consome\",segundo=\"Arroz rojo\",tercero=\"Enchiladas\"):\n",
        "    print(f\"El comensal {comensal} quiere:\")\n",
        "    print(\"\\t Entrada:\",primer)\n",
        "    print(\"\\t Medio:\",segundo)\n",
        "    print(\"\\t Plato fuerte:\",tercero)\n",
        "\n",
        "comanda()\n",
        "\n",
        "comanda(3,\"Ensalda\",\"Arroz blanco\",\"Esparragos al horno\")"
      ],
      "metadata": {
        "colab": {
          "base_uri": "https://localhost:8080/"
        },
        "id": "qZp1P60xAyJ_",
        "outputId": "0711c283-1f62-4daf-8c32-fe46e71692a9"
      },
      "execution_count": 9,
      "outputs": [
        {
          "output_type": "stream",
          "name": "stdout",
          "text": [
            "El comensal 1 quiere:\n",
            "\t Entrada: Consome\n",
            "\t Medio: Arroz rojo\n",
            "\t Plato fuerte: Enchiladas\n",
            "El comensal 3 quiere:\n",
            "\t Entrada: Ensalda\n",
            "\t Medio: Arroz blanco\n",
            "\t Plato fuerte: Esparragos al horno\n"
          ]
        }
      ]
    },
    {
      "cell_type": "markdown",
      "source": [
        "# Argumentos enviados en grupo en unan tupla.\n",
        "Esto sirve para enviar multiplea argumentos a una función empelando el comodin *\n",
        "\n",
        "```\n",
        "def mifun( args* ):      \n",
        "    <cuerpo de la función>\n",
        "```\n",
        "\n"
      ],
      "metadata": {
        "id": "CQoUUyO5DdMY"
      }
    },
    {
      "cell_type": "code",
      "source": [
        "# El comodin va al principio\n",
        "def comanda2( *opciones ):\n",
        "    #print( opciones )\n",
        "    print(f\"El comensal:{opciones[0]} pidio:\")\n",
        "    print(\"\\tEntrada: \",opciones[1])\n",
        "    print(\"\\tSegundo: \",opciones[2])\n",
        "    print(\"\\tPlato fuerte: \",opciones[3])\n",
        "    print(\"indicaciones extra:\")\n",
        "    for instruccion in opciones[4::]:\n",
        "        print(\"\\n\",instruccion)\n",
        "\n",
        "comanda2(1, \"Sopa de fideo\", \"Arroz\",\"Arrachera\",\"La arrachera que aún se mueva\",\"De postre una gelatina\")"
      ],
      "metadata": {
        "colab": {
          "base_uri": "https://localhost:8080/"
        },
        "id": "wJnf-UyDENxi",
        "outputId": "ca64dab3-cd1a-4ea0-cc1f-53129808c358"
      },
      "execution_count": 16,
      "outputs": [
        {
          "output_type": "stream",
          "name": "stdout",
          "text": [
            "El comensal:1 pidio:\n",
            "\tEntrada:  Sopa de fideo\n",
            "\tSegundo:  Arroz\n",
            "\tPlato fuerte:  Arrachera\n",
            "indicaciones extra:\n",
            "\n",
            " La arrachera que aún se mueva\n",
            "\n",
            " De postre una gelatina\n"
          ]
        }
      ]
    },
    {
      "cell_type": "markdown",
      "source": [
        "# Argumentos enviados en grupo en un diccionario.\n",
        "Es el mismo concepto que el anterior pero se usa el comdín ** y se mapea a un diccionario"
      ],
      "metadata": {
        "id": "9GPsf-NSGzuv"
      }
    },
    {
      "cell_type": "code",
      "source": [
        "def comanda3(**opciones):\n",
        "    ops = opciones.keys()\n",
        "    for key in ops:\n",
        "        print(f\"{key} = {opciones[key]} \")\n",
        "\n",
        "comanda3(segundo=\"arroz blanco\",tercero=\"Esparragos al horno\",primer=\"Ensalada\",comensal=3)\n",
        "   "
      ],
      "metadata": {
        "colab": {
          "base_uri": "https://localhost:8080/"
        },
        "id": "ZfgU0ITjHCRX",
        "outputId": "f8cd9178-f524-43c0-cb74-a5fad9e0e82b"
      },
      "execution_count": 20,
      "outputs": [
        {
          "output_type": "stream",
          "name": "stdout",
          "text": [
            "segundo = arroz blanco \n",
            "tercero = Esparragos al horno \n",
            "primer = Ensalada \n",
            "comensal = 3 \n"
          ]
        }
      ]
    },
    {
      "cell_type": "code",
      "source": [
        "# Modularidad y bibliotecas\n",
        "Todos los lenguajes de programación tienen la capacidad de comprartir \n",
        "codigo ebtre la comunidad de programadores.\n",
        "\n",
        "para ello cada lenguaje establece un mecanismo para escribir \n",
        "y compartir bibliotecas"
      ],
      "metadata": {
        "id": "QYIDXM6eJmSD"
      },
      "execution_count": null,
      "outputs": []
    },
    {
      "cell_type": "code",
      "source": [
        "!pip install simple_chalk"
      ],
      "metadata": {
        "colab": {
          "base_uri": "https://localhost:8080/"
        },
        "id": "ZMdY9KSYMAS_",
        "outputId": "a5cc0de1-461d-410c-db3e-522093fdc827"
      },
      "execution_count": 23,
      "outputs": [
        {
          "output_type": "stream",
          "name": "stdout",
          "text": [
            "Collecting simple_chalk\n",
            "  Downloading simple_chalk-0.1.0.tar.gz (13 kB)\n",
            "Building wheels for collected packages: simple-chalk\n",
            "  Building wheel for simple-chalk (setup.py) ... \u001b[?25l\u001b[?25hdone\n",
            "  Created wheel for simple-chalk: filename=simple_chalk-0.1.0-py3-none-any.whl size=22163 sha256=3cd113ad62a7dd93f5912bdd6ff08edfcf9f59067b9aaaed8d0b148d624eb7a4\n",
            "  Stored in directory: /root/.cache/pip/wheels/24/e2/84/d54838032016039eef79df1137b91defaa6db068d825dfcdcd\n",
            "Successfully built simple-chalk\n",
            "Installing collected packages: simple-chalk\n",
            "Successfully installed simple-chalk-0.1.0\n"
          ]
        }
      ]
    },
    {
      "cell_type": "code",
      "source": [
        "from simple_chalk import chalk, yellow\n",
        "print(chalk.yellow(\"Hola de color amarillo\"))"
      ],
      "metadata": {
        "colab": {
          "base_uri": "https://localhost:8080/"
        },
        "id": "1ul7gNkgKxZf",
        "outputId": "b17be16f-d123-4b5b-d1d4-d003b697fb2b"
      },
      "execution_count": 24,
      "outputs": [
        {
          "output_type": "stream",
          "name": "stdout",
          "text": [
            "\u001b[33mHola de color amarillo\u001b[0m\n"
          ]
        }
      ]
    },
    {
      "cell_type": "markdown",
      "source": [
        "#¿Como escribo un módulo (biblioteca)?\n",
        "\n",
        "Se define en un archivo de biblioteca."
      ],
      "metadata": {
        "id": "6jLL6J6dO_kg"
      }
    },
    {
      "cell_type": "code",
      "source": [
        "!cat mi_modulo.py"
      ],
      "metadata": {
        "colab": {
          "base_uri": "https://localhost:8080/"
        },
        "id": "bRkSwYywPSI9",
        "outputId": "f4243869-5108-4b7c-e2a8-b14896acb457"
      },
      "execution_count": 25,
      "outputs": [
        {
          "output_type": "stream",
          "name": "stdout",
          "text": [
            "def sumar( a , b):\r\n",
            "    return a + b\r\n",
            "\r\n",
            "def mi_print( texto , final ):\r\n",
            "    print(\"Super:\", text , end=final)\r\n",
            "\r\n"
          ]
        }
      ]
    },
    {
      "cell_type": "code",
      "source": [
        "import  mi_modulo\n",
        "\n",
        "res = mi_modulo.sumar( 7 ,5 )\n",
        "print(res)\n",
        "\n",
        "mi_modulo.mi_print(\"Yael\",\"\\n\")"
      ],
      "metadata": {
        "colab": {
          "base_uri": "https://localhost:8080/"
        },
        "id": "RnegVlYbQrPp",
        "outputId": "3ba77013-1387-486d-add4-32d83948c5c2"
      },
      "execution_count": 30,
      "outputs": [
        {
          "output_type": "stream",
          "name": "stdout",
          "text": [
            "12\n",
            "Super: Yael\n"
          ]
        }
      ]
    },
    {
      "cell_type": "code",
      "source": [
        "from mi_modulo import sumar , mi_print\n",
        "res = sumar( 5 , 3)\n",
        "print( res )\n",
        "mi_print(\"Yael\" , \"\\n\")"
      ],
      "metadata": {
        "colab": {
          "base_uri": "https://localhost:8080/"
        },
        "id": "zhVzpRuFR7iz",
        "outputId": "95b739b3-9ea7-46d9-a090-95a2842fd058"
      },
      "execution_count": 33,
      "outputs": [
        {
          "output_type": "stream",
          "name": "stdout",
          "text": [
            "8\n",
            "Super: Yael\n"
          ]
        }
      ]
    },
    {
      "cell_type": "markdown",
      "source": [
        ""
      ],
      "metadata": {
        "id": "Wwxqr4m_S4j3"
      }
    },
    {
      "cell_type": "code",
      "source": [
        "archivo = open(\"salida.txt\" , \"wt\")\n",
        "archivo.write(\"hola mundo\")\n",
        "archivo.close()"
      ],
      "metadata": {
        "id": "uZNtJJ9QS1-W"
      },
      "execution_count": 38,
      "outputs": []
    },
    {
      "cell_type": "code",
      "source": [
        "!cat salida.txt"
      ],
      "metadata": {
        "colab": {
          "base_uri": "https://localhost:8080/"
        },
        "id": "B9RRPv2cTLAQ",
        "outputId": "cc7cd4b6-0107-4902-fedd-c87983b9c965"
      },
      "execution_count": 39,
      "outputs": [
        {
          "output_type": "stream",
          "name": "stdout",
          "text": [
            "hola mundo"
          ]
        }
      ]
    }
  ]
}