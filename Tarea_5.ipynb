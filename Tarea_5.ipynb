{
  "nbformat": 4,
  "nbformat_minor": 0,
  "metadata": {
    "colab": {
      "name": "Tarea 5.ipynb",
      "provenance": [],
      "authorship_tag": "ABX9TyND3utwEdwPlbwFqgnyE1E3",
      "include_colab_link": true
    },
    "kernelspec": {
      "name": "python3",
      "display_name": "Python 3"
    },
    "language_info": {
      "name": "python"
    }
  },
  "cells": [
    {
      "cell_type": "markdown",
      "metadata": {
        "id": "view-in-github",
        "colab_type": "text"
      },
      "source": [
        "<a href=\"https://colab.research.google.com/github/YaelDuarte/COMPyPROG2022G1157/blob/main/Tarea_5.ipynb\" target=\"_parent\"><img src=\"https://colab.research.google.com/assets/colab-badge.svg\" alt=\"Open In Colab\"/></a>"
      ]
    },
    {
      "cell_type": "markdown",
      "metadata": {
        "id": "Ss_yHt9u0adB"
      },
      "source": [
        "### PROGRAMA QUE SOLICITA DOS NUMEROS UNO MAYOR QUE EL OTRO"
      ]
    },
    {
      "cell_type": "code",
      "metadata": {
        "colab": {
          "base_uri": "https://localhost:8080/"
        },
        "id": "0EafunXrPDjy",
        "outputId": "618febb4-b88b-4402-8a03-7a77416e9cd6"
      },
      "source": [
        "numero1 = int(input(\"Ingresa un número entero:\"))\n",
        "numero2 = int(input(\"Ingresa otro número entero:\"))\n",
        "\n",
        "if numero1 > numero2 :\n",
        "    print(\"El número mayor es:\")\n",
        "    print(numero1)\n",
        "elif numero2 > numero1 :\n",
        "    print(\"El número mayor es:\")\n",
        "    print(numero1)\n",
        "if numero1 < numero2 :\n",
        "    print(\"El número menor es:\")\n",
        "    print(numero1)\n",
        "elif numero2 < numero1 :\n",
        "    print(\"El número menor es:\")\n",
        "    print(numero2)\n",
        "elif numero1 == numero2:\n",
        "    print(\"Son números iguales\")"
      ],
      "execution_count": 117,
      "outputs": [
        {
          "output_type": "stream",
          "name": "stdout",
          "text": [
            "Ingresa un número entero:30\n",
            "Ingresa otro número entero:25\n",
            "El número mayor es:\n",
            "30\n",
            "El número menor es:\n",
            "25\n"
          ]
        }
      ]
    },
    {
      "cell_type": "markdown",
      "metadata": {
        "id": "xzLaOmHv0nqP"
      },
      "source": [
        "#### PROGRAMA QUE SOLICITA 3 NUMEROS PARA SABER CUAL ES EL MAYOR"
      ]
    },
    {
      "cell_type": "code",
      "metadata": {
        "colab": {
          "base_uri": "https://localhost:8080/"
        },
        "id": "tNQSaxp9kEYK",
        "outputId": "537c6924-941f-4f11-9dfc-eef5b2caafc7"
      },
      "source": [
        "numero1 = int(input(\"Ingresa un número entero:\"))\n",
        "numero2 = int(input(\"Ingresa un número entero diferente al primero:\"))\n",
        "numero3 = int(input(\"Ingresa un número entero diferente a los otros dos:\"))\n",
        "\n",
        "if numero1 > numero2 and numero3 :\n",
        "    print(\"El número mayor es:\")\n",
        "    print(numero1)\n",
        "elif numero2 > numero3 and numero1 :\n",
        "    print(\"El número mayor es:\")\n",
        "    print(numero2)\n",
        "elif numero3 > numero1 and numero2 :\n",
        "    print(\"El número mayor es\")\n",
        "    print(numero3)"
      ],
      "execution_count": 75,
      "outputs": [
        {
          "output_type": "stream",
          "name": "stdout",
          "text": [
            "Ingresa un número entero:300\n",
            "Ingresa un número entero diferente al primero:400\n",
            "Ingresa un número entero diferente a los otros dos:200\n",
            "El número mayor es:\n",
            "400\n"
          ]
        }
      ]
    },
    {
      "cell_type": "markdown",
      "metadata": {
        "id": "yOQ3VJal00t9"
      },
      "source": [
        "#### PROGRAMA QUE SOLICITA 3 NUMEROS PARA SABER CUAL ES EL MENOR"
      ]
    },
    {
      "cell_type": "code",
      "metadata": {
        "colab": {
          "base_uri": "https://localhost:8080/"
        },
        "id": "Lm4JDFDjrWDP",
        "outputId": "a2dbab84-e6d0-4d08-fb8b-e3df30839555"
      },
      "source": [
        "numero1 = int(input(\"Ingresa un número entero:\"))\n",
        "numero2 = int(input(\"Ingresa un número entero diferente al primero:\"))\n",
        "numero3 = int(input(\"Ingresa un número entero diferente a los otros dos:\"))\n",
        "\n",
        "if numero1 < numero2 and numero3 :\n",
        "    print(\"El número menor es:\")\n",
        "    print(numero1)\n",
        "elif numero2 < numero3 and numero1 :\n",
        "    print(\"El número menor es:\")\n",
        "    print(numero2)\n",
        "elif numero3 < numero1 and numero2 :\n",
        "    print(\"El número menor es\")\n",
        "    print(numero3)"
      ],
      "execution_count": 78,
      "outputs": [
        {
          "output_type": "stream",
          "name": "stdout",
          "text": [
            "Ingresa un número entero:300\n",
            "Ingresa un número entero diferente al primero:200\n",
            "Ingresa un número entero diferente a los otros dos:150\n",
            "El número menor es\n",
            "150\n"
          ]
        }
      ]
    },
    {
      "cell_type": "markdown",
      "metadata": {
        "id": "1cWrf7bK03lh"
      },
      "source": [
        "#### PROGRAMA QUE SOLICITA 4 NUMEROS PARA SABER CUAL ES EL MAYOR Y EL MENOR"
      ]
    },
    {
      "cell_type": "code",
      "metadata": {
        "colab": {
          "base_uri": "https://localhost:8080/"
        },
        "id": "SZ8LbSRau7cv",
        "outputId": "0e51c44c-e724-491f-e7fd-d1b6be61525c"
      },
      "source": [
        "numero1 = int(input(\"Ingresa un número entero:\"))\n",
        "numero2 = int(input(\"Ingresa un número entero diferente al primero:\"))\n",
        "numero3 = int(input(\"Ingresa un número entero diferente a los otros dos:\"))\n",
        "numero4 = int(input(\"Ingresa un número entero diferente a los otros tres:\"))\n",
        "\n",
        "if numero1 > numero2 and numero3 and numero4 :\n",
        "    print(\"El número mayor es:\")\n",
        "    print(numero1)\n",
        "elif numero2 > numero3 and numero4 and numero1 :\n",
        "    print(\"El número mayor es:\")\n",
        "    print(numero2)\n",
        "elif numero3 > numero4 and numero1 and numero2 :\n",
        "    print(\"El número mayor es:\")\n",
        "    print(numero3)\n",
        "elif numero4 > numero1 and numero2 and numero3 :\n",
        "    print(\"El número mayor es\")\n",
        "    print(numero4)\n",
        "\n",
        "if numero1 < numero2 and numero3 and numero4 :\n",
        "    print(\"El número menor es:\")\n",
        "    print(numero1)\n",
        "elif numero2 < numero3 and numero4 and numero1 :\n",
        "    print(\"El número menor es:\")\n",
        "    pritt(numero2)\n",
        "elif numero3 < numero4 and numero1 and numero2 :\n",
        "    print(\"El número menor es:\")\n",
        "    print(numero3)\n",
        "elif numero4 < numero1 and numero2 and numero3 :\n",
        "    print(\"El número menor es:\")\n",
        "    print(numero4)"
      ],
      "execution_count": 93,
      "outputs": [
        {
          "output_type": "stream",
          "name": "stdout",
          "text": [
            "Ingresa un número entero:15\n",
            "Ingresa un número entero diferente al primero:36\n",
            "Ingresa un número entero diferente a los otros dos:57\n",
            "Ingresa un número entero diferente a los otros tres:78\n",
            "El número mayor es\n",
            "78\n",
            "El número menor es:\n",
            "15\n"
          ]
        }
      ]
    }
  ]
}