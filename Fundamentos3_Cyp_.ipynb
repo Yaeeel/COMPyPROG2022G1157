{
  "nbformat": 4,
  "nbformat_minor": 0,
  "metadata": {
    "colab": {
      "name": "Fundamentos3_Cyp_.ipynb",
      "provenance": [],
      "authorship_tag": "ABX9TyM/e34/4LD8lOCEY3lS4hrI",
      "include_colab_link": true
    },
    "kernelspec": {
      "name": "python3",
      "display_name": "Python 3"
    },
    "language_info": {
      "name": "python"
    }
  },
  "cells": [
    {
      "cell_type": "markdown",
      "metadata": {
        "id": "view-in-github",
        "colab_type": "text"
      },
      "source": [
        "<a href=\"https://colab.research.google.com/github/YaelDuarte/COMPyPROG2022G1157/blob/main/Fundamentos3_Cyp_.ipynb\" target=\"_parent\"><img src=\"https://colab.research.google.com/assets/colab-badge.svg\" alt=\"Open In Colab\"/></a>"
      ]
    },
    {
      "cell_type": "markdown",
      "metadata": {
        "id": "NitPFpFFFlA_"
      },
      "source": [
        "Repetición:\n",
        "\n",
        "Este tipo de estructura nos permite automatizar la ejecución repetitiva de código mientas ciertas condiciones s cumplan, tenemos 3 variantes de esta estructura en todos los lenguajes de programación:\n",
        "\n",
        "Desde...hasta (estructura for)\n",
        "haz mientras (structura While)\n",
        "haz y luego validaz mientras( estructura Do-While)\n",
        "\n",
        "\n",
        "# FOR CON PYTHON\n",
        "\n",
        "```\n",
        "for j in range (10):    \n",
        "    print(f\"Hola {j}\")\n",
        "```\n",
        "# FOR CON LENGUAJE C y/o JAVA\n",
        "```\n",
        "for( int j=0 ; j<10; j=j+1 ) {\n",
        "    printf(\"Hola %i \\n\", j);\n",
        "}\n",
        "\n",
        "```\n",
        "\n",
        "En todos los lenguajes de programacion existe un tipo especial de for,conocido como *** for-each***\n",
        "\n",
        "# For-each en Python\n",
        "```\n",
        "for color in colores:    \n",
        "    print(f\"Este es el color { color}\")\n",
        "```"
      ]
    },
    {
      "cell_type": "code",
      "metadata": {
        "colab": {
          "base_uri": "https://localhost:8080/"
        },
        "id": "p6BIzm4TFRpa",
        "outputId": "fd6acb66-e6fe-453a-94cc-b383dc8c7206"
      },
      "source": [
        "# Funcion rage()\n",
        "# rage(<INICIO>,<STOP>,<INCREMENTO>)\n",
        "x = range(0,10,2)\n",
        "print(x)\n",
        "\n",
        "\n",
        "for j in range(10): # generara un iterador de 0 a 10 --> 1,2,3,4...9\n",
        "    print(f\"Hola {j}\")\n",
        "print(\"*****************************\")\n",
        "for j in range(0,10,2): # generara un iterador de 0 a 10 --> 0,2,4...\n",
        "    print(f\"Hola {j}\")\n",
        "print(\"*****************************\")\n",
        "frutas = [\"uva\",\"aguacate\",\"pera\",\"manzana\",\"sandia\"]\n",
        "print(frutas[0])\n",
        "print(frutas[1])\n",
        "print(frutas[2])\n",
        "print(frutas[3])\n",
        "print(frutas[4])\n",
        "print(\"*****************************\")\n",
        "for index in range(5):\n",
        "    print(frutas[index])\n",
        "print(\"*****************************\")\n",
        "for i in range(5):\n",
        "    print(\"+++++\")"
      ],
      "execution_count": 11,
      "outputs": [
        {
          "output_type": "stream",
          "name": "stdout",
          "text": [
            "range(0, 10, 2)\n",
            "Hola 0\n",
            "Hola 1\n",
            "Hola 2\n",
            "Hola 3\n",
            "Hola 4\n",
            "Hola 5\n",
            "Hola 6\n",
            "Hola 7\n",
            "Hola 8\n",
            "Hola 9\n",
            "*****************************\n",
            "Hola 0\n",
            "Hola 2\n",
            "Hola 4\n",
            "Hola 6\n",
            "Hola 8\n",
            "*****************************\n",
            "uva\n",
            "aguacate\n",
            "pera\n",
            "manzana\n",
            "sandia\n",
            "*****************************\n",
            "uva\n",
            "aguacate\n",
            "pera\n",
            "manzana\n",
            "sandia\n",
            "*****************************\n",
            "+++++\n",
            "+++++\n",
            "+++++\n",
            "+++++\n",
            "+++++\n"
          ]
        }
      ]
    }
  ]
}