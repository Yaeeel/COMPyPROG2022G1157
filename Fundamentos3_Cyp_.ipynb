{
  "nbformat": 4,
  "nbformat_minor": 0,
  "metadata": {
    "colab": {
      "name": "Fundamentos3_Cyp_.ipynb",
      "provenance": [],
      "authorship_tag": "ABX9TyOEhaZj0PpKPFJBTRrY+YDo",
      "include_colab_link": true
    },
    "kernelspec": {
      "name": "python3",
      "display_name": "Python 3"
    },
    "language_info": {
      "name": "python"
    }
  },
  "cells": [
    {
      "cell_type": "markdown",
      "metadata": {
        "id": "view-in-github",
        "colab_type": "text"
      },
      "source": [
        "<a href=\"https://colab.research.google.com/github/YaelDuarte/COMPyPROG2022G1157/blob/main/Fundamentos3_Cyp_.ipynb\" target=\"_parent\"><img src=\"https://colab.research.google.com/assets/colab-badge.svg\" alt=\"Open In Colab\"/></a>"
      ]
    },
    {
      "cell_type": "markdown",
      "metadata": {
        "id": "NitPFpFFFlA_"
      },
      "source": [
        "Repetición:\n",
        "\n",
        "Este tipo de estructura nos permite automatizar la ejecución repetitiva de código mientas ciertas condiciones s cumplan, tenemos 3 variantes de esta estructura en todos los lenguajes de programación:\n",
        "\n",
        "Desde...hasta (estructura for)\n",
        "haz mientras (structura While)\n",
        "haz y luego validaz mientras( estructura Do-While)\n",
        "\n",
        "\n",
        "# FOR CON PYTHON\n",
        "\n",
        "```\n",
        "for j in range (10):    \n",
        "    print(f\"Hola {j}\")\n",
        "```\n",
        "# FOR CON LENGUAJE C y/o JAVA\n",
        "```\n",
        "for( int j=0 ; j<10; j=j+1 ) {\n",
        "    printf(\"Hola %i \\n\", j);\n",
        "}\n",
        "\n",
        "```\n",
        "\n",
        "En todos los lenguajes de programacion existe un tipo especial de for,conocido como *** for-each***\n",
        "\n",
        "# For-each en Python\n",
        "```\n",
        "for color in colores:    \n",
        "    print(f\"Este es el color { color}\")\n",
        "```"
      ]
    },
    {
      "cell_type": "code",
      "metadata": {
        "colab": {
          "base_uri": "https://localhost:8080/"
        },
        "id": "p6BIzm4TFRpa",
        "outputId": "fd6acb66-e6fe-453a-94cc-b383dc8c7206"
      },
      "source": [
        "# Funcion rage()\n",
        "# rage(<INICIO>,<STOP>,<INCREMENTO>)\n",
        "x = range(0,10,2)\n",
        "print(x)\n",
        "\n",
        "\n",
        "for j in range(10): # generara un iterador de 0 a 10 --> 1,2,3,4...9\n",
        "    print(f\"Hola {j}\")\n",
        "print(\"*****************************\")\n",
        "for j in range(0,10,2): # generara un iterador de 0 a 10 --> 0,2,4...\n",
        "    print(f\"Hola {j}\")\n",
        "print(\"*****************************\")\n",
        "frutas = [\"uva\",\"aguacate\",\"pera\",\"manzana\",\"sandia\"]\n",
        "print(frutas[0])\n",
        "print(frutas[1])\n",
        "print(frutas[2])\n",
        "print(frutas[3])\n",
        "print(frutas[4])\n",
        "print(\"*****************************\")\n",
        "for index in range(5):\n",
        "    print(frutas[index])\n",
        "print(\"*****************************\")\n",
        "for i in range(5):\n",
        "    print(\"+++++\")"
      ],
      "execution_count": null,
      "outputs": [
        {
          "output_type": "stream",
          "name": "stdout",
          "text": [
            "range(0, 10, 2)\n",
            "Hola 0\n",
            "Hola 1\n",
            "Hola 2\n",
            "Hola 3\n",
            "Hola 4\n",
            "Hola 5\n",
            "Hola 6\n",
            "Hola 7\n",
            "Hola 8\n",
            "Hola 9\n",
            "*****************************\n",
            "Hola 0\n",
            "Hola 2\n",
            "Hola 4\n",
            "Hola 6\n",
            "Hola 8\n",
            "*****************************\n",
            "uva\n",
            "aguacate\n",
            "pera\n",
            "manzana\n",
            "sandia\n",
            "*****************************\n",
            "uva\n",
            "aguacate\n",
            "pera\n",
            "manzana\n",
            "sandia\n",
            "*****************************\n",
            "+++++\n",
            "+++++\n",
            "+++++\n",
            "+++++\n",
            "+++++\n"
          ]
        }
      ]
    },
    {
      "cell_type": "code",
      "metadata": {
        "colab": {
          "base_uri": "https://localhost:8080/"
        },
        "id": "vUGipdlRL6B0",
        "outputId": "3e0e42ab-bc29-4ca7-ad82-d7ec35947f26"
      },
      "source": [
        "for x in range (1, 20, 1):\n",
        "    print(x)\n",
        "print(\"Fin del programa\")\n",
        "\n",
        "for x in range(19,0,-1):\n",
        "    print(x)\n",
        "print(\"Fin del programa\")"
      ],
      "execution_count": 2,
      "outputs": [
        {
          "output_type": "stream",
          "name": "stdout",
          "text": [
            "1\n",
            "2\n",
            "3\n",
            "4\n",
            "5\n",
            "6\n",
            "7\n",
            "8\n",
            "9\n",
            "10\n",
            "11\n",
            "12\n",
            "13\n",
            "14\n",
            "15\n",
            "16\n",
            "17\n",
            "18\n",
            "19\n",
            "Fin del programa\n",
            "19\n",
            "18\n",
            "17\n",
            "16\n",
            "15\n",
            "14\n",
            "13\n",
            "12\n",
            "11\n",
            "10\n",
            "9\n",
            "8\n",
            "7\n",
            "6\n",
            "5\n",
            "4\n",
            "3\n",
            "2\n",
            "1\n",
            "Fin del programa\n"
          ]
        }
      ]
    },
    {
      "cell_type": "code",
      "metadata": {
        "colab": {
          "base_uri": "https://localhost:8080/"
        },
        "id": "Df7kezhZNqRY",
        "outputId": "6086616b-a4dd-42de-ee54-320742cbd7b5"
      },
      "source": [
        "# Ejemplo 3.3\n",
        "CUECER = 0\n",
        "N = 0\n",
        "NUM = 0\n",
        "N = int(input(\"un valor numerico mayor a 1: \"))\n",
        "for I in range(1, N+1, 1):\n",
        "    N = int(input(\"un valor numerico : \"))\n",
        "    if N == 0:\n",
        "        CUECER += 1\n",
        "\n",
        "print(\"CUECER=\",CUECER)"
      ],
      "execution_count": 7,
      "outputs": [
        {
          "output_type": "stream",
          "name": "stdout",
          "text": [
            "un valor numerico mayor a 1: 4\n",
            "un valor numerico mayor que 1: 0\n",
            "un valor numerico mayor que 1: 0\n",
            "un valor numerico mayor que 1: 2\n",
            "un valor numerico mayor que 1: 2\n",
            "CUECER= 2\n"
          ]
        }
      ]
    },
    {
      "cell_type": "markdown",
      "metadata": {
        "id": "Gse5cN0LQ5iV"
      },
      "source": [
        "7 x 1 = 7\n",
        "7 x 2 = 14\n",
        "...\n",
        "\n",
        "7 x 10 = 70"
      ]
    },
    {
      "cell_type": "code",
      "metadata": {
        "colab": {
          "base_uri": "https://localhost:8080/"
        },
        "id": "_1mTiPE2REAY",
        "outputId": "a6b193fa-7721-4f9b-ca24-17b801fd2e83"
      },
      "source": [
        "for f in range(1,11): print(f'7 x {f} = {7 * f}')\n",
        "print(f) "
      ],
      "execution_count": 8,
      "outputs": [
        {
          "output_type": "stream",
          "name": "stdout",
          "text": [
            "7 x 1 = 7\n",
            "7 x 2 = 14\n",
            "7 x 3 = 21\n",
            "7 x 4 = 28\n",
            "7 x 5 = 35\n",
            "7 x 6 = 42\n",
            "7 x 7 = 49\n",
            "7 x 8 = 56\n",
            "7 x 9 = 63\n",
            "7 x 10 = 70\n",
            "10\n"
          ]
        }
      ]
    },
    {
      "cell_type": "markdown",
      "metadata": {
        "id": "NveuiyEiR6Gj"
      },
      "source": [
        "¿Dame un numero entre 1 y 5? : 2\n",
        "\n",
        "¿Dame un numero entre 2y 10? : 6"
      ]
    },
    {
      "cell_type": "code",
      "metadata": {
        "colab": {
          "base_uri": "https://localhost:8080/"
        },
        "id": "6S8YKzCxSQ_A",
        "outputId": "0a4d3894-1415-43b6-c977-dafbcfc9e607"
      },
      "source": [
        "N1 = int(input(\"Dame un número entre 1 y 5: \"))\n",
        "if N1 > 0 and N1 <= 5:\n",
        "    N2 = int(input(f\"Dame un número entre {N1} y 10: \"))\n",
        "    if N2 >= N1 and N2 <= 10:\n",
        "        for i in range( N1, N2+1):\n",
        "            for j in range(1,11):\n",
        "                print(f\"{i} x {j} = \", i*j)\n",
        "            print(\"----------\")\n",
        "    else:\n",
        "        print(\"Valor fuera de rango 1-5\")"
      ],
      "execution_count": 15,
      "outputs": [
        {
          "output_type": "stream",
          "name": "stdout",
          "text": [
            "Dame un número entre 1 y 5: 4\n",
            "Dame un número entre 4 y 10: 6\n",
            "4 x 1 =  4\n",
            "4 x 2 =  8\n",
            "4 x 3 =  12\n",
            "4 x 4 =  16\n",
            "4 x 5 =  20\n",
            "4 x 6 =  24\n",
            "4 x 7 =  28\n",
            "4 x 8 =  32\n",
            "4 x 9 =  36\n",
            "4 x 10 =  40\n",
            "----------\n",
            "5 x 1 =  5\n",
            "5 x 2 =  10\n",
            "5 x 3 =  15\n",
            "5 x 4 =  20\n",
            "5 x 5 =  25\n",
            "5 x 6 =  30\n",
            "5 x 7 =  35\n",
            "5 x 8 =  40\n",
            "5 x 9 =  45\n",
            "5 x 10 =  50\n",
            "----------\n",
            "6 x 1 =  6\n",
            "6 x 2 =  12\n",
            "6 x 3 =  18\n",
            "6 x 4 =  24\n",
            "6 x 5 =  30\n",
            "6 x 6 =  36\n",
            "6 x 7 =  42\n",
            "6 x 8 =  48\n",
            "6 x 9 =  54\n",
            "6 x 10 =  60\n",
            "----------\n"
          ]
        }
      ]
    },
    {
      "cell_type": "code",
      "metadata": {
        "colab": {
          "base_uri": "https://localhost:8080/"
        },
        "id": "ckH0yCgqWqYV",
        "outputId": "7e75c25b-2422-4237-f4e4-f90148b55f34"
      },
      "source": [
        "# generadores de listas \n",
        "numeros = [0,0,0,0,0]\n",
        "print(numeros)\n",
        "numeros = [ 0 for x in range(5) ]\n",
        "print( numeros )\n",
        "# empleando la variable de control para el valor incial \n",
        "numeros = [ x for x in range(5) ]\n",
        "print( numeros )\n",
        "# [10,20,30,40,50...100]\n",
        "numeros = [ (x+1)*10 for x in range(10) ]\n",
        "print( numeros )\n"
      ],
      "execution_count": 22,
      "outputs": [
        {
          "output_type": "stream",
          "name": "stdout",
          "text": [
            "[0, 0, 0, 0, 0]\n",
            "[0, 0, 0, 0, 0]\n",
            "[0, 1, 2, 3, 4]\n",
            "[10, 20, 30, 40, 50, 60, 70, 80, 90, 100]\n"
          ]
        }
      ]
    },
    {
      "cell_type": "code",
      "metadata": {
        "colab": {
          "base_uri": "https://localhost:8080/"
        },
        "id": "BrQo8XKzYSZP",
        "outputId": "da2406a4-6744-477c-9a9b-58a65c2478c6"
      },
      "source": [
        "# ejercicio: calcular promedio de edades\n",
        "suma=0\n",
        "edades=[0 for x in range(5)]\n",
        "for x in range(5):\n",
        "    edades[x]=int(input(\"Dame una edad: \"))\n",
        "    suma=suma+edades[x]\n",
        "print(edades)\n",
        "print(\"promedio: \", suma/5)"
      ],
      "execution_count": 31,
      "outputs": [
        {
          "output_type": "stream",
          "name": "stdout",
          "text": [
            "Dame una edad: 18\n",
            "Dame una edad: 19\n",
            "Dame una edad: 22\n",
            "Dame una edad: 19\n",
            "Dame una edad: 12\n",
            "[18, 19, 22, 19, 12]\n",
            "promedio:  18.0\n"
          ]
        }
      ]
    },
    {
      "cell_type": "code",
      "metadata": {
        "colab": {
          "base_uri": "https://localhost:8080/"
        },
        "id": "oXBxq9C_cVUo",
        "outputId": "0a91a044-afaa-4cd3-a0e0-7d8de5ad7589"
      },
      "source": [
        "import random\n",
        "print(random.random())\n",
        "print(random.uniform(5,11))\n",
        "val = round(random.uniform(5,11) , 2)\n",
        "print(val)\n",
        "\n",
        "valores = [round(random.uniform(5,11),2) for x in range(20)]\n",
        "print(valores)"
      ],
      "execution_count": 37,
      "outputs": [
        {
          "output_type": "stream",
          "name": "stdout",
          "text": [
            "0.1631181352589568\n",
            "9.668960473265265\n",
            "8.23\n",
            "[6.25, 8.19, 9.04, 5.14, 5.49, 7.61, 10.44, 9.02, 9.66, 8.38, 8.51, 6.62, 6.92, 10.91, 8.86, 8.03, 6.7, 6.4, 7.44, 7.36]\n"
          ]
        }
      ]
    }
  ]
}