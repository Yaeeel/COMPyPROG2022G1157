{
  "nbformat": 4,
  "nbformat_minor": 0,
  "metadata": {
    "colab": {
      "name": "Ejemplo 2.12_.ipynb",
      "provenance": [],
      "authorship_tag": "ABX9TyNkth95T652ZTworcFF4CIE",
      "include_colab_link": true
    },
    "kernelspec": {
      "name": "python3",
      "display_name": "Python 3"
    },
    "language_info": {
      "name": "python"
    }
  },
  "cells": [
    {
      "cell_type": "markdown",
      "metadata": {
        "id": "view-in-github",
        "colab_type": "text"
      },
      "source": [
        "<a href=\"https://colab.research.google.com/github/YaelDuarte/COMPyPROG2022G1157/blob/main/Ejemplo_2_12_.ipynb\" target=\"_parent\"><img src=\"https://colab.research.google.com/assets/colab-badge.svg\" alt=\"Open In Colab\"/></a>"
      ]
    },
    {
      "cell_type": "code",
      "metadata": {
        "colab": {
          "base_uri": "https://localhost:8080/"
        },
        "id": "F0Ru9YhhOaHY",
        "outputId": "cd529666-98b1-4a50-83cb-d9b156980292"
      },
      "source": [
        "# Ejemplo 2.12\n",
        "a=int(input(\"Escribe un número: \"))\n",
        "b=int(input(\"Escribe otro número: \"))\n",
        "c=int(input(\"Escribe otro número diferente a los otros dos: \"))\n",
        "if a>b:\n",
        "    if a>c:\n",
        "        if b>c:\n",
        "            print(f\"{a}, {b}, {c}\")\n",
        "        else:\n",
        "            print(f\"{a}, {c}, {b}\")\n",
        "    else:\n",
        "        print(f\"{c}, {a}, {b}\")\n",
        "else:\n",
        "    if b>c:\n",
        "        if a>c:\n",
        "            print(f\"{b}, {a}, {c}\")\n",
        "        else:\n",
        "            print(f\"{b}, {c}, {a}\")\n",
        "    else:\n",
        "        print(f\"{c}, {b}, {a}\")\n",
        "print(\"*** FIN DEL PROGRAMA***\")"
      ],
      "execution_count": 1,
      "outputs": [
        {
          "output_type": "stream",
          "name": "stdout",
          "text": [
            "Escribe un número: 10\n",
            "Escribe otro número: 43\n",
            "Escribe otro número diferente a los otros dos: 41\n",
            "43, 41, 10\n",
            "*** FIN DEL PROGRAMA***\n"
          ]
        }
      ]
    }
  ]
}