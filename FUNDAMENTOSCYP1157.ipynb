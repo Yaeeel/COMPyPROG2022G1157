{
  "nbformat": 4,
  "nbformat_minor": 0,
  "metadata": {
    "colab": {
      "name": "FUNDAMENTOSCYP1157.ipynb",
      "provenance": [],
      "collapsed_sections": [],
      "authorship_tag": "ABX9TyMU+3uZvOdCKIpJRJGkVylJ",
      "include_colab_link": true
    },
    "kernelspec": {
      "name": "python3",
      "display_name": "Python 3"
    },
    "language_info": {
      "name": "python"
    }
  },
  "cells": [
    {
      "cell_type": "markdown",
      "metadata": {
        "id": "view-in-github",
        "colab_type": "text"
      },
      "source": [
        "<a href=\"https://colab.research.google.com/github/Yaeeel/COMPyPROG2022G1157/blob/main/FUNDAMENTOSCYP1157.ipynb\" target=\"_parent\"><img src=\"https://colab.research.google.com/assets/colab-badge.svg\" alt=\"Open In Colab\"/></a>"
      ]
    },
    {
      "cell_type": "code",
      "metadata": {
        "colab": {
          "base_uri": "https://localhost:8080/"
        },
        "id": "LnA1xS4IVbsd",
        "outputId": "3ad146a7-de02-4201-c535-c3eb8a13dda2"
      },
      "source": [
        "nombre = 'Yael' # Tipo de dato String (cadena de caracteres)\n",
        "\n",
        "\n",
        "print( nombre )"
      ],
      "execution_count": null,
      "outputs": [
        {
          "output_type": "stream",
          "name": "stdout",
          "text": [
            "Yael\n"
          ]
        }
      ]
    },
    {
      "cell_type": "markdown",
      "metadata": {
        "id": "rdGMdrRCzwFh"
      },
      "source": [
        "# Fecha: 12 Octubre del 2021"
      ]
    },
    {
      "cell_type": "markdown",
      "metadata": {
        "id": "u5PNU2QfXMnl"
      },
      "source": [
        "# Tipos de dato en Phyton\n",
        "\n",
        "### Tipos simples \n",
        "- str --> String cadena de caractéres.\n",
        "- int --> Numeros enteros\n",
        "- float --> Numeros con notación de punto flotante\n",
        "- complex --> Numeros complejos \n",
        "- bool --> Boleano ( True o Fals ) \n",
        "- byte --> 8 bits \n",
        "\n",
        "### Tipos de datos estructurados (Compuestos)\n",
        "\n",
        "- list --> Listas (Arreglos en otros lenguajes)\n",
        "- tuple --> Listas no mutables \n",
        "- dict --> diccionarios \n",
        "- set y frozenset --> Conjuntos"
      ]
    },
    {
      "cell_type": "code",
      "metadata": {
        "colab": {
          "base_uri": "https://localhost:8080/"
        },
        "id": "S1Ul1HWoaSyX",
        "outputId": "f309db5c-7055-4923-91be-28bf68176007"
      },
      "source": [
        "import sys \n",
        "edad = 19\n",
        "print( \"Tu edad es:\",edad )\n",
        "# este es un comentario de linea simple y se usa el \"#\" en Phyton\n",
        "\n",
        "\"\"\"\n",
        "Comentario de multiple línea \n",
        "En lenguaje C++ y Java el comentario de múltiple linea es con /* ... */\n",
        "\n",
        "En lenguaje C, C++ y Java el comentario de una sola línea es con:\n",
        "\n",
        "//\n",
        "\n",
        "Aqui puedes expresar en prosa el codigo para futuras referencias\n",
        "\n",
        "\"\"\"\n",
        "\n",
        "# tipos de dato numerico int y float\n",
        "\n",
        "print ( sys.getsizeof(edad) ) \n",
        "# el tipo de dato INT utiliza diferente cantidad de bits segun el\n",
        "# lenguaje de prog. por ejemplo en C utliza 16 bits\n",
        "edad = edad + 1\n",
        "\n",
        "print( edad )\n",
        "\n",
        "estatura = 1.56\n",
        "print( estatura )\n",
        "print( sys.getsizeof(estatura) )\n",
        "estatura = estatura + 0.1\n",
        "print( estatura )\n",
        "print( round(estatura,2) )\n",
        "\n",
        "edad += 1 # edad = edad + 1\n",
        "print( \"Tu edad es:\",edad )\n",
        "\n",
        "edad -= 1 # edad = edad - 1\n",
        "print( \"Tu edad es:\",edad )\n",
        "\n",
        "edad += 1 # Vuelve a 21\n",
        "edad /= 2 # edad = edad / 2\n",
        "print( \"La mitad de tu edad es:\",edad )\n",
        "\n",
        "edad = 21\n",
        "# volver a calcular la mitad de la edad pero solo dejar \n",
        "# parte entera\n",
        "\n",
        "edad = edad // 2\n",
        "print( \"La mitad de tu edad es:\",edad )\n",
        "\n",
        "# En la mayoria de los leng no permiten operaciones entre\n",
        "# diferenttes tipos de datos, en Phyton no es el caso\n",
        "\n",
        "numero = edad / 2.0\n",
        "print( numero )\n",
        "\n",
        "numero = numero * 3 # Tambien se puede usar la expresion *=\n",
        "print( numero )\n",
        "\n",
        "numero = 5.0\n",
        "numero = numero ** 2 # Las ** son potencias y se puede usar \n",
        "# la expresion **=\n",
        "print( numero )\n",
        "\n",
        "# operador modulo\n",
        "numero = 21\n",
        "print( numero / 2 )\n",
        "\n"
      ],
      "execution_count": null,
      "outputs": [
        {
          "output_type": "stream",
          "name": "stdout",
          "text": [
            "Tu edad es: 19\n",
            "28\n",
            "20\n",
            "1.56\n",
            "24\n",
            "1.6600000000000001\n",
            "1.66\n",
            "Tu edad es: 21\n",
            "Tu edad es: 20\n",
            "La mitad de tu edad es: 10.5\n",
            "La mitad de tu edad es: 10\n",
            "5.0\n",
            "15.0\n",
            "25.0\n",
            "10.5\n"
          ]
        }
      ]
    },
    {
      "cell_type": "code",
      "metadata": {
        "colab": {
          "base_uri": "https://localhost:8080/"
        },
        "id": "coABRBMAlxZR",
        "outputId": "e9a2407b-252a-4537-eb0d-4c42f84012d0"
      },
      "source": [
        "# operador modulo\n",
        "numero = 21\n",
        "print( numero / 2 )\n",
        "print( numero // 2 )\n",
        "\n",
        "# el operador modulo da como resultado el residuo de una divison entera \n",
        "print( numero % 2 ) # El operador modulo se representa por %\n",
        "\n",
        "numero = 24\n",
        "print(\"Residuo de 21 / 5:\",numero % 5 )\n",
        "\n",
        "print( numero % 2 == 0)\n",
        "\n",
        "# operadores logicos o relacionales\n",
        "\n",
        "# diferencias \n",
        "print( \"24 es diferentes de 23=\", numero > 23 )\n",
        "print(\"24 es difernte de 23=\",numero != 24)\n",
        "\n",
        "print(\"24 es menor que 23=\",numero < 23)\n",
        "\n",
        "print(\"24 es menor o igual que 24=\",numero >= 24)\n",
        "print(\"24 es menor o igual que 23=\",numero < 23)\n",
        "\n",
        "print(\"El tipo de dato de la var numero es:\", type(numero) )\n",
        "print(\"El tipo de dato de la var numero /2.0 es:\", type(numero/2.0) )"
      ],
      "execution_count": null,
      "outputs": [
        {
          "output_type": "stream",
          "name": "stdout",
          "text": [
            "10.5\n",
            "10\n",
            "1\n",
            "Residuo de 21 / 5: 4\n",
            "True\n",
            "24 es diferentes de 23= True\n",
            "24 es difernte de 23= False\n",
            "24 es menor que 23= False\n",
            "24 es menor o igual que 24= True\n",
            "24 es menor o igual que 23= False\n",
            "El tipo de dato de la var numero es: <class 'int'>\n",
            "El tipo de dato de la var numero /2.0 es: <class 'float'>\n"
          ]
        }
      ]
    },
    {
      "cell_type": "markdown",
      "metadata": {
        "id": "Gx6lt1BLjWUs"
      },
      "source": [
        "# Tarea\n",
        "Hacer un resumen de mínimo una cuartilla de los origenes dle lenguaje Phyton \n",
        "\n",
        "- ¿Por que de su creación?\n",
        "- Caracteristicas principales.\n",
        "- Diferencias de otros leng.\n",
        "\n",
        "Forma de entrega: A mano en el cuaderno, sacarle foto y subir la foto"
      ]
    },
    {
      "cell_type": "markdown",
      "metadata": {
        "id": "vupZS_j7piCR"
      },
      "source": [
        "# Tipo de dato String (str) en Phyton\n",
        "- Se maneja como un arreglo (Tipo de dato compuesto)\n",
        "- Se puede acceder a los elementos de el string por medio del indice del caracter\n",
        "- Mutable \n",
        "- Tiene metodos utiles (potentes)\n",
        "- slicing\n"
      ]
    },
    {
      "cell_type": "code",
      "metadata": {
        "colab": {
          "base_uri": "https://localhost:8080/"
        },
        "id": "hie-ZGW-qHAd",
        "outputId": "a937c4d9-730f-4c4e-f7e8-69d1e44d36ed"
      },
      "source": [
        "nombre = \"Yael\"\n",
        "carrera = \"Ingenieria en computación\"\n",
        "frase = \"\"\" Ahora dilo\n",
        "sin llorar\n",
        "\"\"\"\n",
        "print( nombre )\n",
        "print( carrera )\n",
        "print( frase )\n",
        "\n",
        "# La función type de Phyton te devuelve el tipo de dato de una variable \n",
        "print( type(nombre) )\n",
        "\n",
        "paterno = str( \"Perez\" )\n",
        "print( paterno )"
      ],
      "execution_count": null,
      "outputs": [
        {
          "output_type": "stream",
          "name": "stdout",
          "text": [
            "Yael\n",
            "Ingenieria en computación\n",
            " Ahora dilo\n",
            "sin llorar\n",
            "\n",
            "<class 'str'>\n",
            "Perez\n"
          ]
        }
      ]
    }
  ]
}