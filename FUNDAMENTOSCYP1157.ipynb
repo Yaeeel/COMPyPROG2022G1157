{
  "nbformat": 4,
  "nbformat_minor": 0,
  "metadata": {
    "colab": {
      "name": "FUNDAMENTOSCYP1157.ipynb",
      "provenance": [],
      "collapsed_sections": [],
      "authorship_tag": "ABX9TyNsmHti1PZEwjPh88lkyCPw",
      "include_colab_link": true
    },
    "kernelspec": {
      "name": "python3",
      "display_name": "Python 3"
    },
    "language_info": {
      "name": "python"
    }
  },
  "cells": [
    {
      "cell_type": "markdown",
      "metadata": {
        "id": "view-in-github",
        "colab_type": "text"
      },
      "source": [
        "<a href=\"https://colab.research.google.com/github/YaelDuarte/COMPyPROG2022G1157/blob/main/FUNDAMENTOSCYP1157.ipynb\" target=\"_parent\"><img src=\"https://colab.research.google.com/assets/colab-badge.svg\" alt=\"Open In Colab\"/></a>"
      ]
    },
    {
      "cell_type": "markdown",
      "metadata": {
        "id": "I8LEoTUa6ePe"
      },
      "source": [
        "# 12 Octubre 2021"
      ]
    },
    {
      "cell_type": "code",
      "metadata": {
        "colab": {
          "base_uri": "https://localhost:8080/"
        },
        "id": "LnA1xS4IVbsd",
        "outputId": "3ad146a7-de02-4201-c535-c3eb8a13dda2"
      },
      "source": [
        "nombre = 'Yael' # Tipo de dato String (cadena de caracteres)\n",
        "\n",
        "\n",
        "print( nombre )"
      ],
      "execution_count": null,
      "outputs": [
        {
          "output_type": "stream",
          "name": "stdout",
          "text": [
            "Yael\n"
          ]
        }
      ]
    },
    {
      "cell_type": "markdown",
      "metadata": {
        "id": "u5PNU2QfXMnl"
      },
      "source": [
        "# Tipos de dato en Phyton\n",
        "\n",
        "### Tipos simples \n",
        "- str --> String cadena de caractéres.\n",
        "- int --> Numeros enteros\n",
        "- float --> Numeros con notación de punto flotante\n",
        "- complex --> Numeros complejos \n",
        "- bool --> Boleano ( True o Fals ) \n",
        "- byte --> 8 bits \n",
        "\n",
        "### Tipos de datos estructurados (Compuestos)\n",
        "\n",
        "- list --> Listas (Arreglos en otros lenguajes)\n",
        "- tuple --> Listas no mutables \n",
        "- dict --> diccionarios \n",
        "- set y frozenset --> Conjuntos"
      ]
    },
    {
      "cell_type": "code",
      "metadata": {
        "colab": {
          "base_uri": "https://localhost:8080/"
        },
        "id": "S1Ul1HWoaSyX",
        "outputId": "f309db5c-7055-4923-91be-28bf68176007"
      },
      "source": [
        "import sys \n",
        "edad = 19\n",
        "print( \"Tu edad es:\",edad )\n",
        "# este es un comentario de linea simple y se usa el \"#\" en Phyton\n",
        "\n",
        "\"\"\"\n",
        "Comentario de multiple línea \n",
        "En lenguaje C++ y Java el comentario de múltiple linea es con /* ... */\n",
        "\n",
        "En lenguaje C, C++ y Java el comentario de una sola línea es con:\n",
        "\n",
        "//\n",
        "\n",
        "Aqui puedes expresar en prosa el codigo para futuras referencias\n",
        "\n",
        "\"\"\"\n",
        "\n",
        "# tipos de dato numerico int y float\n",
        "\n",
        "print ( sys.getsizeof(edad) ) \n",
        "# el tipo de dato INT utiliza diferente cantidad de bits segun el\n",
        "# lenguaje de prog. por ejemplo en C utliza 16 bits\n",
        "edad = edad + 1\n",
        "\n",
        "print( edad )\n",
        "\n",
        "estatura = 1.56\n",
        "print( estatura )\n",
        "print( sys.getsizeof(estatura) )\n",
        "estatura = estatura + 0.1\n",
        "print( estatura )\n",
        "print( round(estatura,2) )\n",
        "\n",
        "edad += 1 # edad = edad + 1\n",
        "print( \"Tu edad es:\",edad )\n",
        "\n",
        "edad -= 1 # edad = edad - 1\n",
        "print( \"Tu edad es:\",edad )\n",
        "\n",
        "edad += 1 # Vuelve a 21\n",
        "edad /= 2 # edad = edad / 2\n",
        "print( \"La mitad de tu edad es:\",edad )\n",
        "\n",
        "edad = 21\n",
        "# volver a calcular la mitad de la edad pero solo dejar \n",
        "# parte entera\n",
        "\n",
        "edad = edad // 2\n",
        "print( \"La mitad de tu edad es:\",edad )\n",
        "\n",
        "# En la mayoria de los leng no permiten operaciones entre\n",
        "# diferenttes tipos de datos, en Phyton no es el caso\n",
        "\n",
        "numero = edad / 2.0\n",
        "print( numero )\n",
        "\n",
        "numero = numero * 3 # Tambien se puede usar la expresion *=\n",
        "print( numero )\n",
        "\n",
        "numero = 5.0\n",
        "numero = numero ** 2 # Las ** son potencias y se puede usar \n",
        "# la expresion **=\n",
        "print( numero )\n",
        "\n",
        "# operador modulo\n",
        "numero = 21\n",
        "print( numero / 2 )\n",
        "\n"
      ],
      "execution_count": null,
      "outputs": [
        {
          "output_type": "stream",
          "name": "stdout",
          "text": [
            "Tu edad es: 19\n",
            "28\n",
            "20\n",
            "1.56\n",
            "24\n",
            "1.6600000000000001\n",
            "1.66\n",
            "Tu edad es: 21\n",
            "Tu edad es: 20\n",
            "La mitad de tu edad es: 10.5\n",
            "La mitad de tu edad es: 10\n",
            "5.0\n",
            "15.0\n",
            "25.0\n",
            "10.5\n"
          ]
        }
      ]
    },
    {
      "cell_type": "code",
      "metadata": {
        "colab": {
          "base_uri": "https://localhost:8080/"
        },
        "id": "coABRBMAlxZR",
        "outputId": "e9a2407b-252a-4537-eb0d-4c42f84012d0"
      },
      "source": [
        "# operador modulo\n",
        "numero = 21\n",
        "print( numero / 2 )\n",
        "print( numero // 2 )\n",
        "\n",
        "# el operador modulo da como resultado el residuo de una divison entera \n",
        "print( numero % 2 ) # El operador modulo se representa por %\n",
        "\n",
        "numero = 24\n",
        "print(\"Residuo de 21 / 5:\",numero % 5 )\n",
        "\n",
        "print( numero % 2 == 0)\n",
        "\n",
        "# operadores logicos o relacionales\n",
        "\n",
        "# diferencias \n",
        "print( \"24 es diferentes de 23=\", numero > 23 )\n",
        "print(\"24 es difernte de 23=\",numero != 24)\n",
        "\n",
        "print(\"24 es menor que 23=\",numero < 23)\n",
        "\n",
        "print(\"24 es menor o igual que 24=\",numero >= 24)\n",
        "print(\"24 es menor o igual que 23=\",numero < 23)\n",
        "\n",
        "print(\"El tipo de dato de la var numero es:\", type(numero) )\n",
        "print(\"El tipo de dato de la var numero /2.0 es:\", type(numero/2.0) )"
      ],
      "execution_count": null,
      "outputs": [
        {
          "output_type": "stream",
          "name": "stdout",
          "text": [
            "10.5\n",
            "10\n",
            "1\n",
            "Residuo de 21 / 5: 4\n",
            "True\n",
            "24 es diferentes de 23= True\n",
            "24 es difernte de 23= False\n",
            "24 es menor que 23= False\n",
            "24 es menor o igual que 24= True\n",
            "24 es menor o igual que 23= False\n",
            "El tipo de dato de la var numero es: <class 'int'>\n",
            "El tipo de dato de la var numero /2.0 es: <class 'float'>\n"
          ]
        }
      ]
    },
    {
      "cell_type": "markdown",
      "metadata": {
        "id": "Gx6lt1BLjWUs"
      },
      "source": [
        "# Tarea\n",
        "Hacer un resumen de mínimo una cuartilla de los origenes dle lenguaje Phyton \n",
        "\n",
        "- ¿Por que de su creación?\n",
        "- Caracteristicas principales.\n",
        "- Diferencias de otros leng.\n",
        "\n",
        "Forma de entrega: A mano en el cuaderno, sacarle foto y subir la foto"
      ]
    },
    {
      "cell_type": "markdown",
      "metadata": {
        "id": "vupZS_j7piCR"
      },
      "source": [
        "# Tipo de dato String (str) en Phyton\n",
        "- Se maneja como un arreglo (Tipo de dato compuesto)\n",
        "- Se puede acceder a los elementos de el string por medio del indice del caracter\n",
        "- Mutable \n",
        "- Tiene metodos utiles (potentes)\n",
        "- slicing\n"
      ]
    },
    {
      "cell_type": "code",
      "metadata": {
        "colab": {
          "base_uri": "https://localhost:8080/"
        },
        "id": "hie-ZGW-qHAd",
        "outputId": "a937c4d9-730f-4c4e-f7e8-69d1e44d36ed"
      },
      "source": [
        "nombre = \"Yael\"\n",
        "carrera = \"Ingenieria en computación\"\n",
        "frase = \"\"\" Ahora dilo\n",
        "sin llorar\n",
        "\"\"\"\n",
        "print( nombre )\n",
        "print( carrera )\n",
        "print( frase )\n",
        "\n",
        "# La función type de Phyton te devuelve el tipo de dato de una variable \n",
        "print( type(nombre) )\n",
        "\n",
        "paterno = str( \"Perez\" )\n",
        "print( paterno )"
      ],
      "execution_count": null,
      "outputs": [
        {
          "output_type": "stream",
          "name": "stdout",
          "text": [
            "Yael\n",
            "Ingenieria en computación\n",
            " Ahora dilo\n",
            "sin llorar\n",
            "\n",
            "<class 'str'>\n",
            "Perez\n"
          ]
        }
      ]
    },
    {
      "cell_type": "markdown",
      "metadata": {
        "id": "Hgh0TsMPpLs2"
      },
      "source": [
        "Una clase (class) es un tipo de dato compuesto.\n",
        " ## 14 DE OCTUBRE 2021"
      ]
    },
    {
      "cell_type": "code",
      "metadata": {
        "colab": {
          "base_uri": "https://localhost:8080/"
        },
        "id": "00mk9XiUpbke",
        "outputId": "0d15d744-7217-425d-99c3-536882180282"
      },
      "source": [
        "carrera = \"Ingenieria en computación\"\n",
        "print( carrera )\n",
        "print( carrera [2] )"
      ],
      "execution_count": null,
      "outputs": [
        {
          "output_type": "stream",
          "name": "stdout",
          "text": [
            "Ingenieria en computación\n",
            "g\n"
          ]
        }
      ]
    },
    {
      "cell_type": "markdown",
      "metadata": {
        "id": "bLRasdlgrjfK"
      },
      "source": [
        "# a la sintaxis escrita para elegir un elemnto de un grupo de datos se le llama selector.\n",
        "\n",
        "En caso de String y listas (lst) se usan los caracteres \"[y]\"\n",
        "\n",
        "1. En todis los lenguajes los arreglos inician en 0.\n",
        "2. En phyton no existe como tal el tipo de arreglo, ek concepto es sustituido por las listas.\n",
        "3. Los strings se comportan como un arreglo de la mayoria de los lenguajes.\n",
        "4. En phyton se acepta en idexado negativo, en otros lenguajes NO."
      ]
    },
    {
      "cell_type": "code",
      "metadata": {
        "colab": {
          "base_uri": "https://localhost:8080/"
        },
        "id": "TH_FZ5IBsdRq",
        "outputId": "a472a997-b87f-449b-93ee-63af14c3ff5f"
      },
      "source": [
        "carrera = \"Ingeniería en computación\"\n",
        "print( carrera)\n",
        "print( carrera[8] )\n",
        "print( carrera[24] )\n",
        "print( carrera[-1] )\n",
        "print( carrera[-25])\n",
        "\n",
        "\n",
        "# Adelantado el tema ciclo FOR\n",
        "\n",
        "for letra in carrera:\n",
        "  print(\"-->\", letra, \"<--\")"
      ],
      "execution_count": null,
      "outputs": [
        {
          "output_type": "stream",
          "name": "stdout",
          "text": [
            "Ingeniería en computación\n",
            "í\n",
            "n\n",
            "n\n",
            "I\n",
            "I\n",
            "n\n",
            "g\n",
            "e\n",
            "n\n",
            "i\n",
            "e\n",
            "r\n",
            "í\n",
            "a\n",
            " \n",
            "e\n",
            "n\n",
            " \n",
            "c\n",
            "o\n",
            "m\n",
            "p\n",
            "u\n",
            "t\n",
            "a\n",
            "c\n",
            "i\n",
            "ó\n",
            "n\n"
          ]
        }
      ]
    },
    {
      "cell_type": "markdown",
      "metadata": {
        "id": "EFrab8Xyu5zy"
      },
      "source": [
        "# Slicing (rebanado) de cadenas\n",
        "\n",
        "Permirte seleccionar subcadenas con el operador \n",
        "####[inicio :stop:incremento]\n",
        "El stop no se incluye es por eso que debemos de agregar una posicion extra\n",
        "\n",
        "\n",
        "#### Slicing y valores por defecto \n",
        "\n",
        "inicio por defecto siempre será 0\n",
        "\n",
        "stop: tamaño del arreglo (indexado) positivo\n",
        "      0 en un (indexado negativo)\n",
        "Incremento: es 1 (indexado positivo)"
      ]
    },
    {
      "cell_type": "code",
      "metadata": {
        "colab": {
          "base_uri": "https://localhost:8080/"
        },
        "id": "pCUSVfYlvX6U",
        "outputId": "17e16351-fd7f-45c4-8fbc-e0e36900e1f1"
      },
      "source": [
        "carrera = \"Ingeniería en computación\"\n",
        "print(carrera[0:10:1])\n",
        "print(carrera[14:25:1])\n",
        "# lo mismo pero con indexado negativo ??\n",
        "print(carrera[-11: :1])\n",
        "print(carrera[:10:])\n",
        "print(carrera[14:25:])\n",
        "\n",
        "# SOLUCION PREVIA\n",
        "print(\"-----------\")\n",
        "print(carrera[-11:-1 :1])\n",
        "print(carrera[-11: :1])\n",
        "\n",
        "\n",
        "print(\"--------------\")\n",
        "# Un ejercicio más para ver incremento\n",
        "print(carrera[0:10:2])\n",
        "print(carrera[-1:-12 :-2])\n",
        "print(carrera[25:13:-1])"
      ],
      "execution_count": null,
      "outputs": [
        {
          "output_type": "stream",
          "name": "stdout",
          "text": [
            "Ingeniería\n",
            "computación\n",
            "computación\n",
            "Ingeniería\n",
            "computación\n",
            "-----------\n",
            "computació\n",
            "computación\n",
            "--------------\n",
            "Igneí\n",
            "niaumc\n",
            "nóicatupmoc\n"
          ]
        }
      ]
    },
    {
      "cell_type": "markdown",
      "metadata": {
        "id": "56O_20kh0sq2"
      },
      "source": [
        "# String y sus métodos \n",
        "# Todos los tipos de dato en phyton son objetos (CLASE de la POO)\n",
        "### Lo cual significa que tiene atributos y métodos\n",
        "\n",
        "## dir() y help() funciones para obtener ayuda del lenguaje phyton.\n",
        "\n",
        "### dir muestra las funciones de un tipo de dato como resumen.\n",
        "\n",
        "#### help muestra la misma ayuda pero a detalle.\n",
        "\n",
        "Metodos que inician con doble guion bajo son privados de uso interno de la clase y no deberiamos usarlos.\n",
        "\n",
        "Todos los demas son para uso exterior (para el usuario).\n"
      ]
    },
    {
      "cell_type": "code",
      "metadata": {
        "colab": {
          "base_uri": "https://localhost:8080/"
        },
        "id": "Y7XcyIY21A4f",
        "outputId": "feb728a3-1fac-45c6-eb24-738fe2592362"
      },
      "source": [
        "frutas = \" limon , fresa, manzana  , aguacate  \"\n",
        "nombre = \"jose\"\n",
        "print(frutas)\n",
        "\n",
        "\n",
        "print( nombre.capitalize()) # Vuele la primera letra en mayuscula\n",
        "print( nombre.upper() )\n",
        "print( frutas.replace( \"a\" , \"4\").replace(\"e\" , \"3\").upper() )\n",
        "frutas = frutas.replace( \"a\" , \"4\").replace(\"e\" , \"3\").upper()\n",
        "print(frutas)\n",
        "\n",
        "print(\".-.-.-.-.-.-.-.-.-.-.-.-.-.-.-.-.-.-.-.-\")\n",
        "frutas = \"  limon , fresa, manzana  , aguacate  \"\n",
        "print( frutas.strip() ) # Corrige la basura\n",
        "print( frutas.split(\",\") ) # Separa cada elemento entre comillas por espacio\n",
        "print( frutas.index(\"n\"))"
      ],
      "execution_count": null,
      "outputs": [
        {
          "output_type": "stream",
          "name": "stdout",
          "text": [
            " limon , fresa, manzana  , aguacate  \n",
            "Jose\n",
            "JOSE\n",
            " LIMON , FR3S4, M4NZ4N4  , 4GU4C4T3  \n",
            " LIMON , FR3S4, M4NZ4N4  , 4GU4C4T3  \n",
            ".-.-.-.-.-.-.-.-.-.-.-.-.-.-.-.-.-.-.-.-\n",
            "limon , fresa, manzana  , aguacate\n",
            "['  limon ', ' fresa', ' manzana  ', ' aguacate  ']\n",
            "6\n"
          ]
        }
      ]
    },
    {
      "cell_type": "markdown",
      "metadata": {
        "id": "Q0VHXjum8Zpg"
      },
      "source": [
        "# String y caracteres de escape\n",
        "\n",
        "\"Jose\"\n",
        "- \\\\\"   --> \"\n",
        "- \\\\'   --> '\n",
        "- \\n   --> Salto de linea (tecla enter)\n",
        "- \\t   --> tabulador spacios a la izq.\n",
        "- \\uxxxx  --> Caracteres unicode de 16 bits o 2 bytes\n",
        "- \\Uxxxxxxxx --> unicode extendido 4 bytes\n",
        "- \\\\\\   --> \\\\   "
      ]
    },
    {
      "cell_type": "code",
      "metadata": {
        "colab": {
          "base_uri": "https://localhost:8080/"
        },
        "id": "hrgT7BYL8fpY",
        "outputId": "7cf5466a-0d6c-4ed8-d776-122b28fbeb28"
      },
      "source": [
        "print(\" \\\"Jose\\\"  \")\n",
        "nombre = \" \\\"Jose\\\"  \"\n",
        "print( nombre )\n",
        "\n",
        "carrera = \"Ingeniería \\n\\ten \\n\\t\\tComputación\"\n",
        "print( carrera )\n",
        "\n",
        "#Ejemplos de caracteres unicode\n",
        "print(\"\\u0065\")\n",
        "print(\"\\u0444\")\n",
        "print(\"\\u0620\")\n",
        "print(\"\\U00010057\")\n",
        "print(\"\\U0001F607\")\n",
        "print(\"\\U0001F9A0\")\n",
        "print(\"\\u255E\")"
      ],
      "execution_count": null,
      "outputs": [
        {
          "output_type": "stream",
          "name": "stdout",
          "text": [
            " \"Jose\"  \n",
            " \"Jose\"  \n",
            "Ingeniería \n",
            "\ten \n",
            "\t\tComputación\n",
            "e\n",
            "ф\n",
            "ؠ\n",
            "𐁗\n",
            "😇\n",
            "🦠\n",
            "╞\n"
          ]
        }
      ]
    },
    {
      "cell_type": "markdown",
      "metadata": {
        "id": "dTJ25qFOqJug"
      },
      "source": [
        "# 21 DE OCTUBRE 2021\n"
      ]
    },
    {
      "cell_type": "markdown",
      "metadata": {
        "id": "ykk6KgYOyLmO"
      },
      "source": [
        "# Función print\n",
        "\n",
        "### Se emplea para desplegar información en la salida estandar. Normalmente un monitor \n",
        "\n",
        "- Formas de usar print \n",
        "- El argumento por defecto de la función print (end)\n",
        "- Format ()\n",
        "- Operador f\" \""
      ]
    },
    {
      "cell_type": "code",
      "metadata": {
        "colab": {
          "base_uri": "https://localhost:8080/"
        },
        "id": "BDqATbwMy2f4",
        "outputId": "838b96c1-7ec9-4ae3-cd04-8024ac623331"
      },
      "source": [
        "nombre = \"Jose\"\n",
        "edad = 18\n",
        "casado = False \n",
        "estatura = 1.67\n",
        "\n",
        "\"\"\"\n",
        "Nombre : Jose\n",
        "    Edad: 18\n",
        "    Esta casado : False\n",
        "    Estatura en metros : 1.67\n",
        "\"\"\"\n",
        "#1.- Con comas concatena haciendo un casting(conversion a string)\n",
        "# Agrega un espacio\n",
        "print( nombre,edad,casado,estatura)\n",
        "print(\"Nombre: \" + nombre +\" \\n\\tEdad: \"+ str(edad) + \"\\n\\testa casado : \" +str(casado) )\n",
        "\n",
        "#2.- Con el simbolo de \"+\"\n",
        "# Concatenacion en crudo.\n",
        "print(nombre+\" \" + str(edad) + \" \" + str(casado) + \" \" +str(estatura) )\n",
        "\n",
        "# 3.- Dando formato a la salida con format\n",
        "print(\"\\nCon la funcion format()\")\n",
        "print(\"Nombre:{0}\\n\\tEdad: {1}\\n\\tEsta casado: {2} \\n\\testatura en metros: {3}\" .format(nombre,edad,casado, estatura))\n",
        "\n",
        "#4.- Con el operador f \" \"\n",
        "print(\"Con el operador f\\ \\\"\\\" \")\n",
        "print(f\"Nombre:{nombre}\\n\\tEdad: {edad}\\n\\tEsta casado: {casado} \\n\\testatura en metros: {estatura}\" .format(nombre,edad,casado, estatura))\n",
        "\n",
        "\n",
        "# Como manejar el argumento end\n",
        "print(\" \\n Como usar el argumento end\")\n",
        "print(f\"Hola {nombre} \" , end=\"\")\n",
        "print(\", Como estas?\", end=\"\\n\")\n"
      ],
      "execution_count": null,
      "outputs": [
        {
          "output_type": "stream",
          "name": "stdout",
          "text": [
            "Jose 18 False 1.67\n",
            "Nombre: Jose \n",
            "\tEdad: 18\n",
            "\testa casado : False\n",
            "Jose 18 False 1.67\n",
            "\n",
            "Con la funcion format()\n",
            "Nombre:Jose\n",
            "\tEdad: 18\n",
            "\tEsta casado: False \n",
            "\testatura en metros: 1.67\n",
            "Con el operador f\\ \"\" \n",
            "Nombre:Jose\n",
            "\tEdad: 18\n",
            "\tEsta casado: False \n",
            "\testatura en metros: 1.67\n",
            " \n",
            " Como usar el argumento end\n",
            "Hola Jose , Como estas?\n"
          ]
        }
      ]
    },
    {
      "cell_type": "markdown",
      "metadata": {
        "id": "fkeYBmGc675-"
      },
      "source": [
        "# Con un sola función POR LETRA print escribir su primer nombre (nombre de pila) de la siguiente forma \n",
        "\n",
        "K  K       \n",
        "K K      \n",
        "K  K    \n",
        "K   K   \n",
        "\n",
        "   A\n",
        " A    A\n",
        "AAAAAAA\n",
        "A      A\n",
        "A      A"
      ]
    },
    {
      "cell_type": "markdown",
      "metadata": {
        "id": "N3D0fku8BKPE"
      },
      "source": [
        "#4 NOVIEMBRE 2021"
      ]
    },
    {
      "cell_type": "markdown",
      "metadata": {
        "id": "GUd3fnKYBQzX"
      },
      "source": [
        "# datos de entrada\n",
        "\n",
        "para solicitar los datos de 1 usuario se emplea la funcion input. La cual regresa siempre un tipo de dato string."
      ]
    },
    {
      "cell_type": "code",
      "metadata": {
        "colab": {
          "base_uri": "https://localhost:8080/"
        },
        "id": "f0nr6A48Bc9P",
        "outputId": "31426f59-b20c-4e5e-d524-b58ca82069b5"
      },
      "source": [
        "nombre = input(\"Ingresa tu nombre\")\n",
        "print(\"Tecleaste:\" , nombre )"
      ],
      "execution_count": 1,
      "outputs": [
        {
          "output_type": "stream",
          "name": "stdout",
          "text": [
            "Ingresa tu nombreYael\n",
            "Tecleaste: Yael\n"
          ]
        }
      ]
    },
    {
      "cell_type": "markdown",
      "metadata": {
        "id": "TO_Kc7b2B6HA"
      },
      "source": [
        "#¿Como capturar datos numericos?\n",
        "\n",
        "Para ello se hace una conversion entre tipos...\n",
        "casting... consiste en llamar ak constructor de la clase deseada \n",
        "\n",
        "## Ejemplo convertir el string \"2\" en numero \n",
        "### num=int(\"2\")"
      ]
    },
    {
      "cell_type": "code",
      "metadata": {
        "colab": {
          "base_uri": "https://localhost:8080/"
        },
        "id": "0G9Rg-beCaJJ",
        "outputId": "caffa761-bec9-45ce-8c72-75d8ebcc1109"
      },
      "source": [
        "entrada = input(\"Dame tu edad:\")\n",
        "edad = int(entrada)\n",
        "edad += 1 #edad = edad + 1\n",
        "print(\"Tu edad es:\",edad)"
      ],
      "execution_count": 3,
      "outputs": [
        {
          "output_type": "stream",
          "name": "stdout",
          "text": [
            "Dame tu edad:18\n",
            "Tu edad es: 19\n"
          ]
        }
      ]
    },
    {
      "cell_type": "code",
      "metadata": {
        "colab": {
          "base_uri": "https://localhost:8080/",
          "height": 214
        },
        "id": "NpSXZEAoC9JI",
        "outputId": "e6782efd-ad04-4aad-ae86-6271a2e91741"
      },
      "source": [
        "# lo mismo pero con menos codigo\n",
        "\n",
        "edad = int( input(\"Dame tu edad:\") )\n",
        "print(\"Tu edad es:\") , edad + 1 "
      ],
      "execution_count": 31,
      "outputs": [
        {
          "name": "stdout",
          "output_type": "stream",
          "text": [
            "Dame tu edad:18\n"
          ]
        },
        {
          "output_type": "error",
          "ename": "TypeError",
          "evalue": "ignored",
          "traceback": [
            "\u001b[0;31m---------------------------------------------------------------------------\u001b[0m",
            "\u001b[0;31mTypeError\u001b[0m                                 Traceback (most recent call last)",
            "\u001b[0;32m<ipython-input-31-c6105153fa86>\u001b[0m in \u001b[0;36m<module>\u001b[0;34m()\u001b[0m\n\u001b[1;32m      2\u001b[0m \u001b[0;34m\u001b[0m\u001b[0m\n\u001b[1;32m      3\u001b[0m \u001b[0medad\u001b[0m \u001b[0;34m=\u001b[0m \u001b[0mint\u001b[0m\u001b[0;34m(\u001b[0m \u001b[0minput\u001b[0m\u001b[0;34m(\u001b[0m\u001b[0;34m\"Dame tu edad:\"\u001b[0m\u001b[0;34m)\u001b[0m \u001b[0;34m)\u001b[0m\u001b[0;34m\u001b[0m\u001b[0;34m\u001b[0m\u001b[0m\n\u001b[0;32m----> 4\u001b[0;31m \u001b[0mprint\u001b[0m\u001b[0;34m(\u001b[0m\u001b[0;34m\"Tu edad es:\"\u001b[0m\u001b[0;34m)\u001b[0m \u001b[0;34m,\u001b[0m \u001b[0medad\u001b[0m \u001b[0;34m+\u001b[0m \u001b[0;36m1\u001b[0m\u001b[0;34m\u001b[0m\u001b[0;34m\u001b[0m\u001b[0m\n\u001b[0m",
            "\u001b[0;31mTypeError\u001b[0m: 'tuple' object is not callable"
          ]
        }
      ]
    },
    {
      "cell_type": "code",
      "metadata": {
        "colab": {
          "base_uri": "https://localhost:8080/",
          "height": 197
        },
        "id": "VDii4DRCDevL",
        "outputId": "fac35aa5-79e5-40dc-f86d-dc23f7bdf51e"
      },
      "source": [
        "estatura = float( input(\"Dame tu estatura:\") )\n",
        "print(\"Tu estatura es:\",estatura + 0.1)"
      ],
      "execution_count": 29,
      "outputs": [
        {
          "name": "stdout",
          "output_type": "stream",
          "text": [
            "Dame tu estatura:1.70\n"
          ]
        },
        {
          "output_type": "error",
          "ename": "TypeError",
          "evalue": "ignored",
          "traceback": [
            "\u001b[0;31m---------------------------------------------------------------------------\u001b[0m",
            "\u001b[0;31mTypeError\u001b[0m                                 Traceback (most recent call last)",
            "\u001b[0;32m<ipython-input-29-8323bfd5d75e>\u001b[0m in \u001b[0;36m<module>\u001b[0;34m()\u001b[0m\n\u001b[1;32m      1\u001b[0m \u001b[0mestatura\u001b[0m \u001b[0;34m=\u001b[0m \u001b[0mfloat\u001b[0m\u001b[0;34m(\u001b[0m \u001b[0minput\u001b[0m\u001b[0;34m(\u001b[0m\u001b[0;34m\"Dame tu estatura:\"\u001b[0m\u001b[0;34m)\u001b[0m \u001b[0;34m)\u001b[0m\u001b[0;34m\u001b[0m\u001b[0;34m\u001b[0m\u001b[0m\n\u001b[0;32m----> 2\u001b[0;31m \u001b[0mprint\u001b[0m\u001b[0;34m(\u001b[0m\u001b[0;34m\"Tu estatura es:\"\u001b[0m\u001b[0;34m,\u001b[0m\u001b[0mestatura\u001b[0m \u001b[0;34m+\u001b[0m \u001b[0;36m0.1\u001b[0m\u001b[0;34m)\u001b[0m\u001b[0;34m\u001b[0m\u001b[0;34m\u001b[0m\u001b[0m\n\u001b[0m",
            "\u001b[0;31mTypeError\u001b[0m: 'tuple' object is not callable"
          ]
        }
      ]
    },
    {
      "cell_type": "code",
      "metadata": {
        "colab": {
          "base_uri": "https://localhost:8080/",
          "height": 214
        },
        "id": "7SR38Te4EUPq",
        "outputId": "3d1d66ea-5778-4adb-c144-2f4b8395a440"
      },
      "source": [
        "# inputs de booleans\n",
        "\n",
        "casado = bool(int(input(\"Soltero (0) casado (1)\")))\n",
        "print( \"casado=\" , casado )"
      ],
      "execution_count": 32,
      "outputs": [
        {
          "name": "stdout",
          "output_type": "stream",
          "text": [
            "Soltero (0) casado (1)1\n"
          ]
        },
        {
          "output_type": "error",
          "ename": "TypeError",
          "evalue": "ignored",
          "traceback": [
            "\u001b[0;31m---------------------------------------------------------------------------\u001b[0m",
            "\u001b[0;31mTypeError\u001b[0m                                 Traceback (most recent call last)",
            "\u001b[0;32m<ipython-input-32-23eeee82c997>\u001b[0m in \u001b[0;36m<module>\u001b[0;34m()\u001b[0m\n\u001b[1;32m      2\u001b[0m \u001b[0;34m\u001b[0m\u001b[0m\n\u001b[1;32m      3\u001b[0m \u001b[0mcasado\u001b[0m \u001b[0;34m=\u001b[0m \u001b[0mbool\u001b[0m\u001b[0;34m(\u001b[0m\u001b[0mint\u001b[0m\u001b[0;34m(\u001b[0m\u001b[0minput\u001b[0m\u001b[0;34m(\u001b[0m\u001b[0;34m\"Soltero (0) casado (1)\"\u001b[0m\u001b[0;34m)\u001b[0m\u001b[0;34m)\u001b[0m\u001b[0;34m)\u001b[0m\u001b[0;34m\u001b[0m\u001b[0;34m\u001b[0m\u001b[0m\n\u001b[0;32m----> 4\u001b[0;31m \u001b[0mprint\u001b[0m\u001b[0;34m(\u001b[0m \u001b[0;34m\"casado=\"\u001b[0m \u001b[0;34m,\u001b[0m \u001b[0mcasado\u001b[0m \u001b[0;34m)\u001b[0m\u001b[0;34m\u001b[0m\u001b[0;34m\u001b[0m\u001b[0m\n\u001b[0m",
            "\u001b[0;31mTypeError\u001b[0m: 'tuple' object is not callable"
          ]
        }
      ]
    }
  ]
}