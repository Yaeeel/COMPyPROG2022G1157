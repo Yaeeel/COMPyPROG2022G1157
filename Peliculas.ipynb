{
  "nbformat": 4,
  "nbformat_minor": 0,
  "metadata": {
    "colab": {
      "name": "Peliculas.ipynb",
      "provenance": [],
      "authorship_tag": "ABX9TyO4KnKSS+jK1NvX9MgI+8iu",
      "include_colab_link": true
    },
    "kernelspec": {
      "name": "python3",
      "display_name": "Python 3"
    },
    "language_info": {
      "name": "python"
    }
  },
  "cells": [
    {
      "cell_type": "markdown",
      "metadata": {
        "id": "view-in-github",
        "colab_type": "text"
      },
      "source": [
        "<a href=\"https://colab.research.google.com/github/YaelDuarte/COMPyPROG2022G1157/blob/main/Peliculas.ipynb\" target=\"_parent\"><img src=\"https://colab.research.google.com/assets/colab-badge.svg\" alt=\"Open In Colab\"/></a>"
      ]
    },
    {
      "cell_type": "code",
      "metadata": {
        "colab": {
          "base_uri": "https://localhost:8080/"
        },
        "id": "ASiCzqhrJXN5",
        "outputId": "ff31bdcd-6503-41f9-c30c-94ddb030acf5"
      },
      "source": [
        "peliculas = {\"id\":\"CT2021\",\n",
        "             \"pelicula\":{\n",
        "                 \"1ra pelicula\" : \"The whid rise\",\n",
        "                 \"2da pelicula\" : \"Porco Rosso\",\n",
        "                 \"3ra pelicula\" : \"Kiki deliveri service\",\n",
        "                 \"4ta pelicula\" :\"El castillo vagabundo\"\n",
        "             },\n",
        "             \"año de lanzamiento\":{\n",
        "                  \"The whid rise\" : 2013,\n",
        "                  \"Porco Rosso\" : 1992,\n",
        "                  \"Kiki deliveri service\" : 1989,\n",
        "                  \"El castillo vagabundo\": 2004\n",
        "             },\n",
        "\n",
        "}\n",
        "print(peliculas)"
      ],
      "execution_count": 1,
      "outputs": [
        {
          "output_type": "stream",
          "name": "stdout",
          "text": [
            "{'id': 'CT2021', 'pelicula': {'1ra pelicula': 'The whid rise', '2da pelicula': 'Porco Rosso', '3ra pelicula': 'Kiki deliveri service', '4ta pelicula': 'El castillo vagabundo'}, 'año de lanzamiento': {'The whid rise': 2013, 'Porco Rosso': 1992, 'Kiki deliveri service': 1989, 'El castillo vagabundo': 2004}}\n"
          ]
        }
      ]
    }
  ]
}