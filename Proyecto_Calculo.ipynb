{
  "nbformat": 4,
  "nbformat_minor": 0,
  "metadata": {
    "colab": {
      "name": "Proyecto_Calculo.ipynb",
      "provenance": [],
      "collapsed_sections": [],
      "authorship_tag": "ABX9TyPOZiljyKNY+zhmqbSwtFuo",
      "include_colab_link": true
    },
    "kernelspec": {
      "name": "python3",
      "display_name": "Python 3"
    },
    "language_info": {
      "name": "python"
    }
  },
  "cells": [
    {
      "cell_type": "markdown",
      "metadata": {
        "id": "view-in-github",
        "colab_type": "text"
      },
      "source": [
        "<a href=\"https://colab.research.google.com/github/YaelDuarte/COMPyPROG2022G1157/blob/main/Proyecto_Calculo.ipynb\" target=\"_parent\"><img src=\"https://colab.research.google.com/assets/colab-badge.svg\" alt=\"Open In Colab\"/></a>"
      ]
    },
    {
      "cell_type": "code",
      "execution_count": 31,
      "metadata": {
        "colab": {
          "base_uri": "https://localhost:8080/"
        },
        "id": "Vvsx0sNm_gzO",
        "outputId": "97cf5fd7-7d39-4e3a-b9ba-485ff7c1f6aa"
      },
      "outputs": [
        {
          "output_type": "stream",
          "name": "stdout",
          "text": [
            "Ingresa el numero de rectangulos:1000\n",
            "El resutlado es: 1.7183\n",
            "****FIN DEL PROGRAMA****\n"
          ]
        }
      ],
      "source": [
        "# PROYECTO FINAL DE CALCULO\n",
        "n = int(input(\"Ingresa el numero de rectangulos:\"))\n",
        "e = 2.718281828\n",
        "A = (1/n)/2\n",
        "a = 1/n\n",
        "res1 = a*(e**a)\n",
        "res2 = 0\n",
        "for x in range (1,n):\n",
        "    f = A + (1/n)\n",
        "    A = f\n",
        "    res = a*(e**f)\n",
        "    res2 = res2 + res\n",
        "    resF = res2 + res1\n",
        "print(\"El resutlado es:\",round(resF,4))\n",
        "print(\"****FIN DEL PROGRAMA****\")"
      ]
    }
  ]
}