{
  "nbformat": 4,
  "nbformat_minor": 0,
  "metadata": {
    "colab": {
      "name": "EJERCICIOS DEL LIRBO.ipynb",
      "provenance": [],
      "collapsed_sections": [],
      "authorship_tag": "ABX9TyPNbRtbet1M7TZEst8e4aoY",
      "include_colab_link": true
    },
    "kernelspec": {
      "name": "python3",
      "display_name": "Python 3"
    },
    "language_info": {
      "name": "python"
    }
  },
  "cells": [
    {
      "cell_type": "markdown",
      "metadata": {
        "id": "view-in-github",
        "colab_type": "text"
      },
      "source": [
        "<a href=\"https://colab.research.google.com/github/YaelDuarte/COMPyPROG2022G1157/blob/main/EJERCICIOS_DEL_LIRBO.ipynb\" target=\"_parent\"><img src=\"https://colab.research.google.com/assets/colab-badge.svg\" alt=\"Open In Colab\"/></a>"
      ]
    },
    {
      "cell_type": "code",
      "metadata": {
        "colab": {
          "base_uri": "https://localhost:8080/"
        },
        "id": "J0RM7wcqcHXt",
        "outputId": "787d4840-da95-4019-a4df-efb4166fcb86"
      },
      "source": [
        "# Problema 2.1\n",
        "N = float(input(\"Ingrese el número de sonidos emitidos por minuto del grillito:\"))\n",
        "T =  N/4+40\n",
        "print(f\"La temperatura en grados Farengenines: {T} \")\n",
        "print(\"***Fin del programa***\")"
      ],
      "execution_count": null,
      "outputs": [
        {
          "output_type": "stream",
          "name": "stdout",
          "text": [
            "Ingrese el número de sonidos emitidos por minuto del grillito:11\n",
            "La temperatura es: 42.75 \n",
            "***Fin del programa***\n"
          ]
        }
      ]
    },
    {
      "cell_type": "code",
      "metadata": {
        "colab": {
          "base_uri": "https://localhost:8080/"
        },
        "id": "p0Wy8UNE5nIL",
        "outputId": "3fdd57ba-edc3-4344-a191-c2df1c118877"
      },
      "source": [
        "# Problema 2.2\n",
        "P = int(input(\"Ingrese un valor:\"))\n",
        "Q = int(input(\"Ingrese otro valor:\"))\n",
        "EXP = P**3+Q**4-2*P**2\n",
        "if EXP<680:\n",
        "    print(f\"El resultado es: {P},{Q} \")\n",
        "print(\"***Fin del programa***\")"
      ],
      "execution_count": null,
      "outputs": [
        {
          "output_type": "stream",
          "name": "stdout",
          "text": [
            "Ingrese un valor:2\n",
            "Ingrese otro valor:4\n",
            "El resultado es: 2,4 \n"
          ]
        }
      ]
    },
    {
      "cell_type": "code",
      "metadata": {
        "colab": {
          "base_uri": "https://localhost:8080/"
        },
        "id": "ivTOZayXy3E_",
        "outputId": "41907740-e002-4e6f-bf92-24b16bec587e"
      },
      "source": [
        "# Problema 2.3\n",
        "A = float(input(\"Escriba un valor:\"))\n",
        "B = int(input(\"Escriba un valor:\"))\n",
        "C = float(input(\"Escriba un valor:\")) \n",
        "DIS = B**2-4*A*C\n",
        "if DIS > 0:\n",
        "    X1 = ((-B)+DIS**0.5)/2*A\n",
        "    X2 = ((-B)-DIS**0.5)/2*A\n",
        "    print(DIS)\n",
        "    print(f\"Las Raíces reales son: {X1} , {X2}\")\n",
        "else:\n",
        "    print(\"Sin valor\")\n",
        "print(\"***Fin del programa***\")"
      ],
      "execution_count": null,
      "outputs": [
        {
          "output_type": "stream",
          "name": "stdout",
          "text": [
            "Escriba un valor:3\n",
            "Escriba un valor:9\n",
            "Escriba un valor:1.5\n",
            "63.0\n",
            "Las Raíces reales son: -1.5941191002093418 , -25.40588089979066\n",
            "***Fin del programa***\n"
          ]
        }
      ]
    },
    {
      "cell_type": "code",
      "metadata": {
        "colab": {
          "base_uri": "https://localhost:8080/"
        },
        "id": "LOGblNAPcFoz",
        "outputId": "6ccf0e1b-5118-49e7-8ce0-51d2c2f1da7a"
      },
      "source": [
        "# Problema 2.4\n",
        "MAT = int(input(\"Por favor ponga su matricula :):\"))\n",
        "CAL1 = float(input(\"Pon tu calificación:\"))\n",
        "CAL2 = float(input(\"Pon tu calificación:\"))\n",
        "CAL3 = float(input(\"Pon tu calificación:\"))\n",
        "CAL4 = float(input(\"Pon tu calificación:\"))\n",
        "CAL5 = float(input(\"Pon tu calificación:\"))\n",
        "PRO = (CAL1 + CAL2 + CAL3 + CAL4 + CAL5)/5\n",
        "\n",
        "if PRO >= 6:\n",
        "    print(f\"Tu promedio es: {PRO} , Felicidades chavo has aprobado\")\n",
        "else:\n",
        "     print(f\"Tu promedio es: {PRO} , Reprobado, mejor vende Bonice\")\n",
        "print(\"***Fin del programa***\")"
      ],
      "execution_count": null,
      "outputs": [
        {
          "output_type": "stream",
          "name": "stdout",
          "text": [
            "Por favor ponga su matricula :):6\n",
            "Pon tu calificación:6\n",
            "Pon tu calificación:7.50\n",
            "Pon tu calificación:8\n",
            "Pon tu calificación:9.50\n",
            "Pon tu calificación:7\n",
            "Tu promedio es: 7.6 , Felicidades chavo has aprobado\n"
          ]
        }
      ]
    },
    {
      "cell_type": "code",
      "metadata": {
        "colab": {
          "base_uri": "https://localhost:8080/"
        },
        "id": "Pd0cZjuHf6MB",
        "outputId": "55b4398d-997c-42a0-aab6-bb6e55ee2302"
      },
      "source": [
        "# Problema 2.5\n",
        "NUM = int(input(\"Ingrese un número:\"))\n",
        "\n",
        "if NUM > 0:\n",
        "    print(\"número positivo\")\n",
        "elif NUM == 0:\n",
        "    print(\"Número Nulo\")\n",
        "else:\n",
        "    print(\"Número negativo\")\n",
        "print(\"***Fin del programa***\")"
      ],
      "execution_count": null,
      "outputs": [
        {
          "output_type": "stream",
          "name": "stdout",
          "text": [
            "Ingrese un número:0\n",
            "Número Nulo\n",
            "***Fin del programa***\n"
          ]
        }
      ]
    },
    {
      "cell_type": "code",
      "metadata": {
        "colab": {
          "base_uri": "https://localhost:8080/"
        },
        "id": "5AQPmLhbiTJf",
        "outputId": "602ca48c-0dd5-439a-96d4-a3b19c34a3e6"
      },
      "source": [
        "# Problema 2.6\n",
        "A = int(input(\"Ingrese un número entero:\"))\n",
        "\n",
        "if A == 0:\n",
        "    print(\"Núlo\")\n",
        "elif -1**A > 0:\n",
        "    print(\"Par\")\n",
        "else:\n",
        "    print(\"Impar\")\n",
        "print(\"***Fin del programa***\")"
      ],
      "execution_count": null,
      "outputs": [
        {
          "output_type": "stream",
          "name": "stdout",
          "text": [
            "Ingrese un número entero:0\n",
            "Núlo\n"
          ]
        }
      ]
    },
    {
      "cell_type": "code",
      "metadata": {
        "colab": {
          "base_uri": "https://localhost:8080/"
        },
        "id": "UkeIKFrymGOq",
        "outputId": "b326d282-e662-4513-eaa1-9f1a9e751afa"
      },
      "source": [
        "# Problema 2.7\n",
        "A = int(input(\"Ingrese un número:\"))\n",
        "B = int(input(\"Ingrese otro número:\"))\n",
        "C = int(input(\"Ingrese otro número diferente a los otros dos:\"))\n",
        "\n",
        "if A < B:\n",
        "    if B < C:\n",
        "        print(\"Los numeros estan en orden creciente\")\n",
        "    else:\n",
        "        print(\"Los números no estan en orden creciente\")\n",
        "else:\n",
        "    print(\"Los número no estan en orden creciente\")\n",
        "print(\"***Fin del programa***\")"
      ],
      "execution_count": null,
      "outputs": [
        {
          "output_type": "stream",
          "name": "stdout",
          "text": [
            "Ingrese un número:5\n",
            "Ingrese otro número:3\n",
            "Ingrese otro número diferente a los otros dos:9\n",
            "Los número no estan en orden creciente\n"
          ]
        }
      ]
    },
    {
      "cell_type": "code",
      "metadata": {
        "colab": {
          "base_uri": "https://localhost:8080/"
        },
        "id": "6BTOgvFjpH-k",
        "outputId": "1a568bb7-fc75-44cf-e5ad-b0b53d04df71"
      },
      "source": [
        "# Problema 2.8\n",
        "COMPRA = float(input(\"Ingrese el total de su compra:\"))\n",
        "\n",
        "if COMPRA < 500:\n",
        "    print(f\"No hay descuento, el total es {COMPRA}\")\n",
        "elif COMPRA <= 1000:\n",
        "    PAGAR = COMPRA-(COMPRA*0.05)\n",
        "    print(f\"El total con descuento es: {PAGAR}\")\n",
        "elif COMPRA <=7000:\n",
        "    PAGAR = COMPRA-(COMPRA*0.11)\n",
        "    print(f\"El total con descuento es: {PAGAR}\")\n",
        "elif COMPRA <= 15000:\n",
        "    PAGAR = COMPRA-(COMPRA*0.18)\n",
        "    print(f\"El total con descuento es: {PAGAR}\")\n",
        "elif COMPRA > 15000:\n",
        "    PAGAR = COMPRA-(COMPRA*0.25)\n",
        "    print(f\"El total con descuento es: {PAGAR}\")\n",
        "print(\"***FIN DEL PROGRAMA***\")"
      ],
      "execution_count": null,
      "outputs": [
        {
          "output_type": "stream",
          "name": "stdout",
          "text": [
            "Ingrese el total de su compra:14200.50\n",
            "El total con descuento es: 11644.41\n",
            "***FIN DEL PROGRAMA***\n"
          ]
        }
      ]
    },
    {
      "cell_type": "code",
      "metadata": {
        "colab": {
          "base_uri": "https://localhost:8080/"
        },
        "id": "fdNCZLzVu4-S",
        "outputId": "53ecd491-e906-4c94-9f91-66136eb4c936"
      },
      "source": [
        "# Problema 2.9\n",
        "PREBAS = float(input(\"Ingrese el costo del producto:\"))\n",
        "IMP = 0\n",
        "PETROT = 0\n",
        "if PREBAS > 500:\n",
        "    IMP = 2*0.30+(PREBAS-40)*0.50\n",
        "if PREBAS > 40:\n",
        "    IMP = 2*0.30+(PREBAS-40)*0.40\n",
        "if PREBAS > 20:\n",
        "    IMP = 2*0.30+(PREBAS-40)*0.30\n",
        "else: \n",
        "    IMP = 0\n",
        "PETROT = PREBAS + IMP \n",
        "print(f\"Los costos son: {PREBAS}, {PETROT}\")\n",
        "print(\"***FIN DEL PROGRAMA***\")"
      ],
      "execution_count": null,
      "outputs": [
        {
          "output_type": "stream",
          "name": "stdout",
          "text": [
            "Ingrese el costo del producto:217.80\n",
            "Los costos son: 217.8, 271.74\n"
          ]
        }
      ]
    },
    {
      "cell_type": "code",
      "metadata": {
        "colab": {
          "base_uri": "https://localhost:8080/"
        },
        "id": "BePb8ok5BSjx",
        "outputId": "a2c5fc28-0675-4b49-d179-32b24008dbe7"
      },
      "source": [
        "# Problema 2.10\n",
        "A = int(input(\"Ingrese un número:\"))\n",
        "B = int(input(\"Ingrese un número:\"))\n",
        "C = int(input(\"Ingrese un número:\"))\n",
        "if  A > B:\n",
        "    if  A > C:\n",
        "        print(\"A es el mayor\")\n",
        "    else:\n",
        "        A == C\n",
        "        print(\"A y C son los mayores\")\n",
        "if A == B:\n",
        "    if A > C:\n",
        "        print(\"A y B son los mayores\")\n",
        "    else:\n",
        "        A == C\n",
        "        print(\"A,B y C son iguales\")\n",
        "elif C > A and B:\n",
        "    print(\"C es el mayor\")\n",
        "elif B > A and C:\n",
        "    print(\"B es el mayor\")\n",
        "print(\"***FIN DEL PROGRAMA***\")"
      ],
      "execution_count": null,
      "outputs": [
        {
          "output_type": "stream",
          "name": "stdout",
          "text": [
            "Ingrese un número:17\n",
            "Ingrese un número:17\n",
            "Ingrese un número:17\n",
            "A,B y C son iguales\n"
          ]
        }
      ]
    },
    {
      "cell_type": "code",
      "metadata": {
        "colab": {
          "base_uri": "https://localhost:8080/"
        },
        "id": "lZhYQzcVUOJs",
        "outputId": "06b29216-c20e-473b-8a96-a709cd98902e"
      },
      "source": [
        "# Problema 2.11\n",
        "CLAVE = int(input(\"Ingrese la clave:\"))\n",
        "NUMIN = int(input(\"Cuanto duro su llamada?:\"))\n",
        "if CLAVE == 12:\n",
        "    COST = NUMIN*2\n",
        "    print(f\"El costo de la llamada es:{COST}\")\n",
        "elif CLAVE == 15:\n",
        "    COST = NUMIN*2.2\n",
        "    print(f\"El costo de la llamada es:{COST}\")\n",
        "elif CLAVE == 18:\n",
        "    COST = NUMIN*4.5\n",
        "    print(f\"El costo de la llamada es:{COST}\")\n",
        "elif CLAVE == 19:\n",
        "    COST = NUMIN*3.5\n",
        "    print(f\"El costo de la llamada es:{COST}\")\n",
        "elif CLAVE == 23 and 25:\n",
        "    COST = NUMIN*6\n",
        "    print(f\"El costo de la llamada es:{COST}\")\n",
        "elif CLAVE == 29:\n",
        "    COST = NUMIN*5\n",
        "    print(f\"El costo de la llamada es:{COST}\")\n",
        "print(\"***FIN DEL PROGRAMA***\")"
      ],
      "execution_count": null,
      "outputs": [
        {
          "output_type": "stream",
          "name": "stdout",
          "text": [
            "Ingrese la clave:15\n",
            "Cuanto duro su llamada?:4\n",
            "El costo de la llamada es:8.8\n",
            "***FIN DEL PROGRAMA***\n"
          ]
        }
      ]
    },
    {
      "cell_type": "code",
      "metadata": {
        "colab": {
          "base_uri": "https://localhost:8080/"
        },
        "id": "v66SfYETXVNe",
        "outputId": "7b102cd4-8d92-4cf8-cf00-72311cbad535"
      },
      "source": [
        "# Problema 2.12\n",
        "CATE = int(input(\"Cual es la categoria del trabajador?:\"))\n",
        "SUE = float(input(\"Cual es el sueldo del trabajador?:\"))\n",
        "HE = int(input(\"Cuantas horas extras trabajo?:\"))\n",
        "if CATE == 1:\n",
        "    PHE = 30\n",
        "elif CATE == 2:\n",
        "    PHE = 38\n",
        "elif CATE == 3:\n",
        "    PHE = 50\n",
        "elif CATE == 4:\n",
        "    PHE = 70\n",
        "elif CATE:\n",
        "    PHE = 0\n",
        "if HE > 30:\n",
        "    NSUE = SUE+30*PHE\n",
        "else:\n",
        "    NSUE = SUE+HE*PHE\n",
        "print(f\"El pago al trabajador es:{NSUE}\")\n",
        "print(\"***FIN DEL PROGRAMA***\")"
      ],
      "execution_count": null,
      "outputs": [
        {
          "output_type": "stream",
          "name": "stdout",
          "text": [
            "Cual es la categoria del trabajador?:5\n",
            "Cual es el sueldo del trabajador?:5800\n",
            "Cuantas horas extras trabajo?:17\n",
            "El pago al trabajador es:5800.0\n"
          ]
        }
      ]
    },
    {
      "cell_type": "code",
      "metadata": {
        "id": "NkLbka04fevJ",
        "colab": {
          "base_uri": "https://localhost:8080/"
        },
        "outputId": "fa2eb926-5d08-4c3c-aed3-be56971cbdb4"
      },
      "source": [
        "# Problema 2.13\n",
        "MAT = int(input(\"Ingrese su matricula:\"))\n",
        "CARR= (input(\"Ingrese su carrera:\"))\n",
        "SEM = int(input(\"Ingrese los semestres aprobados:\"))\n",
        "PROM = float(input(\"Ingrese su promedio:\"))\n",
        "Economía = 0\n",
        "if CARR:\n",
        "    Economía == SEM >= 6 and PROM >= 8.8\n",
        "    print(f\"{MAT}  {CARR} ACEPTADO FELICIDADES!\")\n",
        "elif CARR:\n",
        "    Computación == SEM > 6 and PROM > 8.5\n",
        "    print(f\"{MAT}  {CARR} ACEPTADO FELICIDADES!\")\n",
        "elif CARR:\n",
        "    Administración == SEM > 5 and PROM > 8.5\n",
        "    print(f\"{MAT}  {CARR} ACEPTADO FELICIDADES!\")\n",
        "elif CARR:\n",
        "    Contabilidad == SEM > 5 and PROM > 8.5\n",
        "    print(f\"{MAT}  {CARR} ACEPTADO FELICIDADES!\")\n",
        "print(\"***FIN DEL PROGRAMA***\")"
      ],
      "execution_count": 6,
      "outputs": [
        {
          "output_type": "stream",
          "name": "stdout",
          "text": [
            "Ingrese su matricula:26100\n",
            "Ingrese su carrera:Computación\n",
            "Ingrese los semestres aprobados:6\n",
            "Ingrese su promedio:9.2\n",
            "26100  Computación ACEPTADO FELICIDADES!\n"
          ]
        }
      ]
    }
  ]
}